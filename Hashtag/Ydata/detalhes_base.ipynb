{
 "cells": [
  {
   "cell_type": "markdown",
   "id": "26deed20-63cf-4e3d-aa28-781fcd5445ee",
   "metadata": {},
   "source": [
    "|    | Name                       | Description                                                                                                                                                    |\n",
    "|---:|:---------------------------|:---------------------------------------------------------------------------------------------------------------------------------------------------------------|\n",
    "|  0 | Age                        | Numerical Value                                                                                                                                                |\n",
    "|  1 | Attrition                  | Employee leaving the company - Text - No, Yes                                                                                                                     |\n",
    "|  2 | BusinessTravel            | Text - Non-Travel, Travel_Frequently, Travel_Rarely                                                                                                             |\n",
    "|  3 | DailyRate                 | Numerical Value - Salary Level                                                                                                                                 |\n",
    "|  4 | Department                 | Text - Sales, Research & Development, Human Resources                                                                                                         |\n",
    "|  5 | DistanceFromHome         | Numerical Value - the distance from work to home in miles \n",
    "|  6 | Education                  | Numerical Value - 1=Below college, 2=College, 3=Bachelor, 4=Master, 5=PhD   |\n",
    "|  7 | EducationField            | Text - Life Sciences, Medical, Marketing, Techincal Degree, Human Resources, Other                                                                                   |\n",
    "|  8 | EmployeeCount             | Numerical Value - 1                                                                                                                                               |\n",
    "|  9 | EmployeeNumber            | Numerical Value - Employee ID                                                                                                                                  |\n",
    "| 10 | EnvironmentSatisfaction    | Numerical Value - 1=Low, 2=Medium, 3=High, 4=Very High |\n",
    "| 11 | Gender                     | Text - Female, Male                                                                                                                                             |\n",
    "| 12 | HourlyRate                | Numerical Value - Hourly Salary                                                                                                                                |\n",
    "| 13 | JobInvolvement            | Numerical Value - 1=Low, 2=Medium, 3=High, 4=Very High                                                                                                         |\n",
    "| 14 | JobLevel                  | Numerical Value - 1, 2, 3, 4, 5. Means different job levels                                                                                                     |\n",
    "| 15 | JobRole                   | Text - Sales Executive, Research Scientist, Laboratory Technician, Manufacturing Director, Healthcare Representative, Manager, Sales Representative, Research Director, Human Resources |\n",
    "| 16 | JobSatisfaction           | Numerical Value - 1=Low, 2=Medium, 3=High, 4=Very High                                                                                                         |\n",
    "| 17 | MaritalStatus             | Text - Single, Married, Divorced                                                                                                                                      |\n",
    "| 18 | MonthlyIncome             | Numerical Value - Monthly Salary                                                                                                                               |\n",
    "| 19 | MonthlyRate                | Numerical Value - Monthly Rate                                                                                                                                  |\n",
    "| 20 | NumCompaniesWorked        | Numerical Value - Number of companies worked at                                                                                                                |\n",
    "| 21 | Over18                    | Text - Y                                                                                                                                                    |\n",
    "| 22 | Overtime                   | Text - No, Yes                                                                                                                                                    |\n",
    "| 23 | PercentSalaryHike        | Numerical Value - Percentage increase in salary                                                                                                                |\n",
    "| 24 | PerformanceRating         | Numerical Value - 1=Low, 2=Good, 3=Excellent, 4=Outstanding                                                                                                    |\n",
    "| 25 | RelationshipSatisfaction  | Numerical Value - 1=Low, 2=Medium, 3=High, 4=Very High                                                                                                         |\n",
    "| 26 | StandardHours             | Numerical Value - 80                                                                                                                                            |\n",
    "| 27 | StockOptionsLevel        | Numerical Value - 0, 1, 2, 3                                                                                                                                    |\n",
    "| 28 | TotalWorkingYears        | Numerical Value - Total years worked                                                                                                                            |\n",
    "| 29 | TrainingTimesLastYear   | Numerical Value - How many times the employee has been trained last year                                                                                       |\n",
    "| 30 | WorkLifeBalance          | Numerical Value - 1=Bad, 2=Good, 3=Better, 4=Best                                                                                                              |\n",
    "| 31 | YearsAtCompany           | Numerical Value - Number of years at the company                                                                                                                |\n",
    "| 32 | YearsInCurrentRole      | Numerical Value -Number of years in current role                                                                                                                |\n",
    "| 33 | YearsSinceLastPromotion | Numerical Value - Years since last promotion                                                                                                                    |\n",
    "| 34 | YearsWithCurrManager | Numerical Value - Years with current manager                                                                                                                    |\n"
   ]
  }
 ],
 "metadata": {
  "kernelspec": {
   "display_name": "yt",
   "language": "python",
   "name": "yt"
  },
  "language_info": {
   "codemirror_mode": {
    "name": "ipython",
    "version": 3
   },
   "file_extension": ".py",
   "mimetype": "text/x-python",
   "name": "python",
   "nbconvert_exporter": "python",
   "pygments_lexer": "ipython3",
   "version": "3.11.7"
  }
 },
 "nbformat": 4,
 "nbformat_minor": 5
}
