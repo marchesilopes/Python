{
 "cells": [
  {
   "cell_type": "markdown",
   "metadata": {},
   "source": [
    "# Padronizando Nomes de Colunas no Pandas"
   ]
  },
  {
   "cell_type": "code",
   "execution_count": 3,
   "metadata": {},
   "outputs": [
    {
     "data": {
      "text/html": [
       "<div>\n",
       "<style scoped>\n",
       "    .dataframe tbody tr th:only-of-type {\n",
       "        vertical-align: middle;\n",
       "    }\n",
       "\n",
       "    .dataframe tbody tr th {\n",
       "        vertical-align: top;\n",
       "    }\n",
       "\n",
       "    .dataframe thead th {\n",
       "        text-align: right;\n",
       "    }\n",
       "</style>\n",
       "<table border=\"1\" class=\"dataframe\">\n",
       "  <thead>\n",
       "    <tr style=\"text-align: right;\">\n",
       "      <th></th>\n",
       "      <th>ID   Usuario</th>\n",
       "      <th>produto/descricao</th>\n",
       "      <th>CorDisponivel</th>\n",
       "      <th>preco</th>\n",
       "      <th>Quantidade em Estoque</th>\n",
       "      <th>DATA</th>\n",
       "    </tr>\n",
       "  </thead>\n",
       "  <tbody>\n",
       "    <tr>\n",
       "      <th>0</th>\n",
       "      <td>1</td>\n",
       "      <td>Samsung Galaxy S10</td>\n",
       "      <td>Preto</td>\n",
       "      <td>4000</td>\n",
       "      <td>2</td>\n",
       "      <td>2024-01-02</td>\n",
       "    </tr>\n",
       "    <tr>\n",
       "      <th>1</th>\n",
       "      <td>2</td>\n",
       "      <td>IPhone 11</td>\n",
       "      <td>Branco</td>\n",
       "      <td>5000</td>\n",
       "      <td>1</td>\n",
       "      <td>2024-01-02</td>\n",
       "    </tr>\n",
       "    <tr>\n",
       "      <th>2</th>\n",
       "      <td>3</td>\n",
       "      <td>Xiomi Redmi Note 8</td>\n",
       "      <td>Azul</td>\n",
       "      <td>1500</td>\n",
       "      <td>3</td>\n",
       "      <td>2024-01-03</td>\n",
       "    </tr>\n",
       "    <tr>\n",
       "      <th>3</th>\n",
       "      <td>4</td>\n",
       "      <td>Motorola Moto G8</td>\n",
       "      <td>Vermelho</td>\n",
       "      <td>1200</td>\n",
       "      <td>2</td>\n",
       "      <td>2024-01-04</td>\n",
       "    </tr>\n",
       "    <tr>\n",
       "      <th>4</th>\n",
       "      <td>5</td>\n",
       "      <td>Samsung Galaxy A10</td>\n",
       "      <td>Preto</td>\n",
       "      <td>800</td>\n",
       "      <td>4</td>\n",
       "      <td>2024-01-06</td>\n",
       "    </tr>\n",
       "  </tbody>\n",
       "</table>\n",
       "</div>"
      ],
      "text/plain": [
       "   ID   Usuario   produto/descricao CorDisponivel  preco  \\\n",
       "0             1  Samsung Galaxy S10         Preto   4000   \n",
       "1             2           IPhone 11        Branco   5000   \n",
       "2             3  Xiomi Redmi Note 8          Azul   1500   \n",
       "3             4    Motorola Moto G8      Vermelho   1200   \n",
       "4             5  Samsung Galaxy A10         Preto    800   \n",
       "\n",
       "   Quantidade em Estoque        DATA  \n",
       "0                      2  2024-01-02  \n",
       "1                      1  2024-01-02  \n",
       "2                      3  2024-01-03  \n",
       "3                      2  2024-01-04  \n",
       "4                      4  2024-01-06  "
      ]
     },
     "execution_count": 3,
     "metadata": {},
     "output_type": "execute_result"
    }
   ],
   "source": [
    "import pandas as pd\n",
    "\n",
    "df = pd.DataFrame({\n",
    "    'ID   Usuario': [1, 2, 3, 4, 5],\n",
    "    'produto/descricao': ['Samsung Galaxy S10', 'IPhone 11', 'Xiomi Redmi Note 8', 'Motorola Moto G8', 'Samsung Galaxy A10'],\n",
    "    'CorDisponivel': ['Preto', 'Branco', 'Azul', 'Vermelho', 'Preto'],\n",
    "    'preco': [4000, 5000, 1500, 1200, 800],\n",
    "    'Quantidade em Estoque': [2, 1, 3, 2, 4],\n",
    "    'DATA': ['2024-01-02', '2024-01-02', '2024-01-03', '2024-01-04', '2024-01-06']\n",
    "})\n",
    "\n",
    "df"
   ]
  },
  {
   "cell_type": "code",
   "execution_count": 2,
   "metadata": {},
   "outputs": [
    {
     "data": {
      "text/plain": [
       "Index(['ID Usuario', 'Produto/descricao', 'CorDisponivel', 'Preco',\n",
       "       'Quantidade em Estoque', 'DATA'],\n",
       "      dtype='object')"
      ]
     },
     "execution_count": 2,
     "metadata": {},
     "output_type": "execute_result"
    }
   ],
   "source": [
    "df.columns"
   ]
  },
  {
   "cell_type": "markdown",
   "metadata": {},
   "source": [
    "### Tipos de case:\n",
    "<ul>\n",
    "<li>Snake case: snake_case</li>\n",
    "<li>Camel case: camelCase</li>\n",
    "<li>Kebab case: kebab-case</li>\n",
    "<li>Pascal case: PascalCase</li>\n",
    "</ul>"
   ]
  },
  {
   "cell_type": "code",
   "execution_count": 24,
   "metadata": {},
   "outputs": [],
   "source": [
    "import re\n",
    "\n",
    "\n",
    "def string_to_snake_case(string):\n",
    "    string_nova = re.sub('/',' ', string)\n",
    "    string_nova = re.sub(' +',' ', string_nova)\n",
    "    string_nova = re.sub(' ','_', string_nova)\n",
    "    string_nova = re.sub('([a-z0-9])([A-Z])', r'\\1_\\2', string_nova)\n",
    "    return string_nova.lower()"
   ]
  },
  {
   "cell_type": "code",
   "execution_count": 25,
   "metadata": {},
   "outputs": [
    {
     "data": {
      "text/plain": [
       "Index(['id_usuario', 'produto_descricao', 'cor_disponivel', 'preco',\n",
       "       'quantidade_em_estoque', 'data'],\n",
       "      dtype='object')"
      ]
     },
     "execution_count": 25,
     "metadata": {},
     "output_type": "execute_result"
    }
   ],
   "source": [
    "df.columns = [string_to_snake_case(coluna) for coluna in df.columns]\n",
    "\n",
    "df.columns"
   ]
  },
  {
   "cell_type": "code",
   "execution_count": 26,
   "metadata": {},
   "outputs": [
    {
     "data": {
      "text/html": [
       "<div>\n",
       "<style scoped>\n",
       "    .dataframe tbody tr th:only-of-type {\n",
       "        vertical-align: middle;\n",
       "    }\n",
       "\n",
       "    .dataframe tbody tr th {\n",
       "        vertical-align: top;\n",
       "    }\n",
       "\n",
       "    .dataframe thead th {\n",
       "        text-align: right;\n",
       "    }\n",
       "</style>\n",
       "<table border=\"1\" class=\"dataframe\">\n",
       "  <thead>\n",
       "    <tr style=\"text-align: right;\">\n",
       "      <th></th>\n",
       "      <th>id_usuario</th>\n",
       "      <th>produto_descricao</th>\n",
       "      <th>cor_disponivel</th>\n",
       "      <th>preco</th>\n",
       "      <th>quantidade_em_estoque</th>\n",
       "      <th>data</th>\n",
       "    </tr>\n",
       "  </thead>\n",
       "  <tbody>\n",
       "    <tr>\n",
       "      <th>0</th>\n",
       "      <td>1</td>\n",
       "      <td>Samsung Galaxy S10</td>\n",
       "      <td>Preto</td>\n",
       "      <td>4000</td>\n",
       "      <td>2</td>\n",
       "      <td>2024-01-02</td>\n",
       "    </tr>\n",
       "    <tr>\n",
       "      <th>1</th>\n",
       "      <td>2</td>\n",
       "      <td>IPhone 11</td>\n",
       "      <td>Branco</td>\n",
       "      <td>5000</td>\n",
       "      <td>1</td>\n",
       "      <td>2024-01-02</td>\n",
       "    </tr>\n",
       "    <tr>\n",
       "      <th>2</th>\n",
       "      <td>3</td>\n",
       "      <td>Xiomi Redmi Note 8</td>\n",
       "      <td>Azul</td>\n",
       "      <td>1500</td>\n",
       "      <td>3</td>\n",
       "      <td>2024-01-03</td>\n",
       "    </tr>\n",
       "    <tr>\n",
       "      <th>3</th>\n",
       "      <td>4</td>\n",
       "      <td>Motorola Moto G8</td>\n",
       "      <td>Vermelho</td>\n",
       "      <td>1200</td>\n",
       "      <td>2</td>\n",
       "      <td>2024-01-04</td>\n",
       "    </tr>\n",
       "    <tr>\n",
       "      <th>4</th>\n",
       "      <td>5</td>\n",
       "      <td>Samsung Galaxy A10</td>\n",
       "      <td>Preto</td>\n",
       "      <td>800</td>\n",
       "      <td>4</td>\n",
       "      <td>2024-01-06</td>\n",
       "    </tr>\n",
       "  </tbody>\n",
       "</table>\n",
       "</div>"
      ],
      "text/plain": [
       "   id_usuario   produto_descricao cor_disponivel  preco  \\\n",
       "0           1  Samsung Galaxy S10          Preto   4000   \n",
       "1           2           IPhone 11         Branco   5000   \n",
       "2           3  Xiomi Redmi Note 8           Azul   1500   \n",
       "3           4    Motorola Moto G8       Vermelho   1200   \n",
       "4           5  Samsung Galaxy A10          Preto    800   \n",
       "\n",
       "   quantidade_em_estoque        data  \n",
       "0                      2  2024-01-02  \n",
       "1                      1  2024-01-02  \n",
       "2                      3  2024-01-03  \n",
       "3                      2  2024-01-04  \n",
       "4                      4  2024-01-06  "
      ]
     },
     "execution_count": 26,
     "metadata": {},
     "output_type": "execute_result"
    }
   ],
   "source": [
    "df"
   ]
  },
  {
   "cell_type": "code",
   "execution_count": 27,
   "metadata": {},
   "outputs": [
    {
     "data": {
      "text/plain": [
       "0    1\n",
       "1    2\n",
       "2    3\n",
       "3    4\n",
       "4    5\n",
       "Name: id_usuario, dtype: int64"
      ]
     },
     "execution_count": 27,
     "metadata": {},
     "output_type": "execute_result"
    }
   ],
   "source": [
    "df.id_usuario"
   ]
  },
  {
   "cell_type": "code",
   "execution_count": 28,
   "metadata": {},
   "outputs": [
    {
     "data": {
      "text/plain": [
       "[['id', 'usuario'],\n",
       " ['produto', 'descricao'],\n",
       " ['cor', 'disponivel'],\n",
       " ['preco'],\n",
       " ['quantidade', 'em', 'estoque'],\n",
       " ['data']]"
      ]
     },
     "execution_count": 28,
     "metadata": {},
     "output_type": "execute_result"
    }
   ],
   "source": [
    "[coluna.split(\"_\") for coluna in df.columns]"
   ]
  },
  {
   "cell_type": "code",
   "execution_count": 30,
   "metadata": {},
   "outputs": [],
   "source": [
    "def string_to_pascal_case(string):\n",
    "    pascal_case = ''.join([palavra.capitalize() for palavra in string_to_snake_case(string).split('_')])\n",
    "    return pascal_case"
   ]
  },
  {
   "cell_type": "code",
   "execution_count": 31,
   "metadata": {},
   "outputs": [
    {
     "data": {
      "text/plain": [
       "['IdUsuario',\n",
       " 'ProdutoDescricao',\n",
       " 'CorDisponivel',\n",
       " 'Preco',\n",
       " 'QuantidadeEmEstoque',\n",
       " 'Data']"
      ]
     },
     "execution_count": 31,
     "metadata": {},
     "output_type": "execute_result"
    }
   ],
   "source": [
    "[string_to_pascal_case(coluna) for coluna in df.columns]"
   ]
  }
 ],
 "metadata": {
  "kernelspec": {
   "display_name": "Python 3",
   "language": "python",
   "name": "python3"
  },
  "language_info": {
   "codemirror_mode": {
    "name": "ipython",
    "version": 3
   },
   "file_extension": ".py",
   "mimetype": "text/x-python",
   "name": "python",
   "nbconvert_exporter": "python",
   "pygments_lexer": "ipython3",
   "version": "3.11.1"
  }
 },
 "nbformat": 4,
 "nbformat_minor": 2
}
