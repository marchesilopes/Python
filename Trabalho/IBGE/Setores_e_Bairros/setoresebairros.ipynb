{
 "cells": [
  {
   "cell_type": "markdown",
   "metadata": {},
   "source": [
    "# CRUZAMENTO DE SETORES CENSITÁRIOS E BAIRROS"
   ]
  },
  {
   "cell_type": "markdown",
   "metadata": {},
   "source": [
    "## Importação das bibliotecas"
   ]
  },
  {
   "cell_type": "code",
   "execution_count": null,
   "metadata": {},
   "outputs": [],
   "source": [
    "import geopandas as gpd\n",
    "import folium\n",
    "from folium import GeoJsonTooltip\n",
    "from shapely.geometry import Point"
   ]
  },
  {
   "cell_type": "markdown",
   "metadata": {},
   "source": [
    "## Carregamento dos Dados\n",
    "### Leitura dos dados com geopandas e conversão em dataframe"
   ]
  },
  {
   "cell_type": "markdown",
   "metadata": {},
   "source": [
    " Mapa dos Setores Censitários do IBGE - 2022"
   ]
  },
  {
   "cell_type": "code",
   "execution_count": null,
   "metadata": {},
   "outputs": [],
   "source": [
    "setores_censitarios = '/Users/gabriel.marchesi/Desktop/Estatística/Python/pythonProject/SMPAE/Censo2022/SetoresxBairros/RS_Malha_Preliminar_2022/RS_Malha_Preliminar_2022.shp'\n",
    "gdf_setores = gpd.read_file(setores_censitarios)"
   ]
  },
  {
   "cell_type": "markdown",
   "metadata": {},
   "source": [
    "Mapa dos bairros - 2016"
   ]
  },
  {
   "cell_type": "code",
   "execution_count": null,
   "metadata": {},
   "outputs": [],
   "source": [
    "bairros = '/Users/gabriel.marchesi/Desktop/Estatística/Python/pythonProject/SMPAE/Censo2022/SetoresxBairros/Bairros_2016/Bairros_2016.shp'\n",
    "gdf_bairros = gpd.read_file(bairros)"
   ]
  },
  {
   "cell_type": "markdown",
   "metadata": {},
   "source": [
    "## Tratamento dos Dados"
   ]
  },
  {
   "cell_type": "markdown",
   "metadata": {},
   "source": [
    "No dataframe dos setores, filtrar somente o município de Porto Alegre e criar um novo dataframe"
   ]
  },
  {
   "cell_type": "code",
   "execution_count": null,
   "metadata": {},
   "outputs": [],
   "source": [
    "gdf_setores_poa = gdf_setores[gdf_setores['CD_MUN'] == '4314902'].copy()"
   ]
  },
  {
   "cell_type": "markdown",
   "metadata": {},
   "source": [
    "Converter os dataframes para o sistema de coordenadas desejado\n",
    "\n",
    "Definir o sistema de coordenadas"
   ]
  },
  {
   "cell_type": "code",
   "execution_count": null,
   "metadata": {},
   "outputs": [],
   "source": [
    "crs_desejado = \"\"\"PROJCS[\"TM-POA\",GEOGCS[\"SIRGAS 2000\",DATUM[\"Sistema_de_Referencia_Geocentrico_para_las_AmericaS_2000\",SPHEROID[\"GRS 1980\",6378137,298.257222101,AUTHORITY[\"EPSG\",\"7019\"]],AUTHORITY[\"EPSG\",\"6674\"]],PRIMEM[\"Greenwich\",0],UNIT[\"Degree\",0.0174532925199433]],PROJECTION[\"Transverse_Mercator\"],PARAMETER[\"latitude_of_origin\",0],PARAMETER[\"central_meridian\",-51],PARAMETER[\"scale_factor\",0.999995],PARAMETER[\"false_easting\",300000],PARAMETER[\"false_northing\",5000000],UNIT[\"metre\",1,AUTHORITY[\"EPSG\",\"9001\"]],AXIS[\"Easting\",EAST],AXIS[\"Northing\",NORTH]]\"\"\""
   ]
  },
  {
   "cell_type": "markdown",
   "metadata": {},
   "source": [
    "Converter o dataframe de setores para o sistema de coordenadas desejado"
   ]
  },
  {
   "cell_type": "code",
   "execution_count": null,
   "metadata": {},
   "outputs": [],
   "source": [
    "gdf_setores_poa_crs = gdf_setores_poa.to_crs(crs_desejado)"
   ]
  },
  {
   "cell_type": "markdown",
   "metadata": {},
   "source": [
    "Converter o dataframe de bairros para o sistema de coordenadas desejado"
   ]
  },
  {
   "cell_type": "code",
   "execution_count": null,
   "metadata": {},
   "outputs": [],
   "source": [
    "gdf_bairros_crs = gdf_bairros.to_crs(crs_desejado)"
   ]
  },
  {
   "cell_type": "markdown",
   "metadata": {},
   "source": [
    "## Visualização Gráfica"
   ]
  },
  {
   "cell_type": "markdown",
   "metadata": {},
   "source": [
    "Criar o mapa de Setores Censitários PoA"
   ]
  },
  {
   "cell_type": "code",
   "execution_count": null,
   "metadata": {},
   "outputs": [],
   "source": [
    "fmap = folium.Map(location=[-30.0486439627364, -51.16280293048624], zoom_start=12)\n",
    "feat_geojson_setores = folium.features.GeoJson(gdf_setores_poa_crs, style_function=lambda x: {'fillColor': '#cce6ff', 'color': 'blue', 'weight': 1})\n",
    "fmap.add_child(feat_geojson_setores)\n",
    "fmap.save('setores_poa.html')"
   ]
  },
  {
   "cell_type": "markdown",
   "metadata": {},
   "source": [
    "Criar o mapa de Bairros PoA"
   ]
  },
  {
   "cell_type": "code",
   "execution_count": null,
   "metadata": {},
   "outputs": [],
   "source": [
    "fmap = folium.Map(location=[-30.0486439627364, -51.16280293048624], zoom_start=12)\n",
    "feat_geojson_bairros = folium.features.GeoJson(gdf_bairros_crs, style_function=lambda x: {'fillColor': '#cce6ff', 'color': 'black', 'weight': 2})\n",
    "fmap.add_child(feat_geojson_bairros)\n",
    "fmap.save('bairros_poa.html')"
   ]
  },
  {
   "cell_type": "markdown",
   "metadata": {},
   "source": [
    "## Intersecção entre Setores Censitários e Bairros"
   ]
  },
  {
   "cell_type": "markdown",
   "metadata": {},
   "source": [
    "Fazendo a interseção entre os dois dataframes"
   ]
  },
  {
   "cell_type": "code",
   "execution_count": null,
   "metadata": {},
   "outputs": [],
   "source": [
    "gdf_intersecao = gpd.overlay(gdf_bairros_crs, gdf_setores_poa_crs, how='intersection')"
   ]
  },
  {
   "cell_type": "markdown",
   "metadata": {},
   "source": [
    "Criar o mapa da interseção entre Setores Censitários e Bairros PoA"
   ]
  },
  {
   "cell_type": "code",
   "execution_count": null,
   "metadata": {},
   "outputs": [],
   "source": [
    "fmap_intersecao = folium.Map(location=[-30.0486439627364, -51.16280293048624], zoom_start=12)"
   ]
  },
  {
   "cell_type": "markdown",
   "metadata": {},
   "source": [
    "Adicionando as camadas com os estilos especificados"
   ]
  },
  {
   "cell_type": "code",
   "execution_count": null,
   "metadata": {},
   "outputs": [],
   "source": [
    "feat_geojson_bairros = folium.features.GeoJson(gdf_intersecao,\n",
    "                                               style_function=lambda x: {'fillColor': '#cce6ff', 'color': 'black', 'weight': 2},\n",
    "                                               tooltip=GeoJsonTooltip(fields=['NOME', 'CD_SETOR'], aliases=['Bairro', 'Código do Setor'], labels=True, sticky=True))\n",
    "feat_geojson_setores = folium.features.GeoJson(gdf_setores_poa_crs, style_function=lambda x: {'fillColor': '#cce6ff', 'color': 'blue', 'weight': 1})\n",
    "fmap_intersecao.add_child(feat_geojson_bairros)\n",
    "fmap_intersecao.add_child(feat_geojson_setores)\n",
    "fmap_intersecao.save('intersecao_bairros_setores_poa.html')"
   ]
  },
  {
   "cell_type": "markdown",
   "metadata": {},
   "source": [
    "## Cálculo dos Centróides dos Setores Censitários"
   ]
  },
  {
   "cell_type": "code",
   "execution_count": null,
   "metadata": {},
   "outputs": [],
   "source": [
    "gdf_setores_poa_crs['centroide'] = gdf_setores_poa_crs['geometry'].centroid"
   ]
  },
  {
   "cell_type": "markdown",
   "metadata": {},
   "source": [
    "Atribuir valores aos bairros"
   ]
  },
  {
   "cell_type": "code",
   "execution_count": null,
   "metadata": {},
   "outputs": [],
   "source": [
    "for idx, row in gdf_setores_poa_crs.iterrows():\n",
    "    point = row['centroide']\n",
    "    nearest_bairro = gdf_bairros_crs.distance(point).idxmin()\n",
    "    gdf_setores_poa_crs.at[idx, 'bairro'] = gdf_bairros_crs.loc[nearest_bairro, 'NOME']\n",
    "\n",
    "gdf_setores_poa_crs"
   ]
  },
  {
   "cell_type": "markdown",
   "metadata": {},
   "source": [
    "## Exportar para Excel"
   ]
  },
  {
   "cell_type": "code",
   "execution_count": null,
   "metadata": {},
   "outputs": [],
   "source": [
    "gdf_setores_poa_crs.to_excel('bairros_setores_censitarios.xlsx', index=False)"
   ]
  }
 ],
 "metadata": {
  "kernelspec": {
   "display_name": "Python 3",
   "language": "python",
   "name": "python3"
  },
  "language_info": {
   "codemirror_mode": {
    "name": "ipython",
    "version": 3
   },
   "file_extension": ".py",
   "mimetype": "text/x-python",
   "name": "python",
   "nbconvert_exporter": "python",
   "pygments_lexer": "ipython3",
   "version": "3.11.1"
  }
 },
 "nbformat": 4,
 "nbformat_minor": 2
}
