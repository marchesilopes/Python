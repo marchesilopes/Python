{
 "cells": [
  {
   "cell_type": "markdown",
   "metadata": {},
   "source": [
    "# Cronograma"
   ]
  },
  {
   "cell_type": "code",
   "execution_count": 2,
   "metadata": {},
   "outputs": [],
   "source": [
    "import pandas as pd\n",
    "import plotly.express as px"
   ]
  },
  {
   "cell_type": "code",
   "execution_count": 3,
   "metadata": {},
   "outputs": [
    {
     "data": {
      "text/html": [
       "<div>\n",
       "<style scoped>\n",
       "    .dataframe tbody tr th:only-of-type {\n",
       "        vertical-align: middle;\n",
       "    }\n",
       "\n",
       "    .dataframe tbody tr th {\n",
       "        vertical-align: top;\n",
       "    }\n",
       "\n",
       "    .dataframe thead th {\n",
       "        text-align: right;\n",
       "    }\n",
       "</style>\n",
       "<table border=\"1\" class=\"dataframe\">\n",
       "  <thead>\n",
       "    <tr style=\"text-align: right;\">\n",
       "      <th></th>\n",
       "      <th>Tarefa</th>\n",
       "      <th>Início</th>\n",
       "      <th>Fim</th>\n",
       "      <th>Responsável</th>\n",
       "    </tr>\n",
       "  </thead>\n",
       "  <tbody>\n",
       "    <tr>\n",
       "      <th>0</th>\n",
       "      <td>Elaboração e Publicação da Ordem de Serviço</td>\n",
       "      <td>2024-02-09</td>\n",
       "      <td>2024-03-09</td>\n",
       "      <td>André/Gabriel</td>\n",
       "    </tr>\n",
       "    <tr>\n",
       "      <th>1</th>\n",
       "      <td>Elaboração da Minuta da Ordem de Serviço</td>\n",
       "      <td>2024-02-09</td>\n",
       "      <td>2024-02-09</td>\n",
       "      <td>André/Gabriel</td>\n",
       "    </tr>\n",
       "    <tr>\n",
       "      <th>2</th>\n",
       "      <td>Abertura do Processo SEI</td>\n",
       "      <td>2024-02-09</td>\n",
       "      <td>2024-02-09</td>\n",
       "      <td>André/Gabriel</td>\n",
       "    </tr>\n",
       "    <tr>\n",
       "      <th>3</th>\n",
       "      <td>Envio do processo ao GS</td>\n",
       "      <td>2024-02-09</td>\n",
       "      <td>2024-02-09</td>\n",
       "      <td>André/Gabriel</td>\n",
       "    </tr>\n",
       "    <tr>\n",
       "      <th>4</th>\n",
       "      <td>Aprovação pelo GS da SMPAE</td>\n",
       "      <td>2024-02-09</td>\n",
       "      <td>2024-02-09</td>\n",
       "      <td>André/Gabriel</td>\n",
       "    </tr>\n",
       "    <tr>\n",
       "      <th>5</th>\n",
       "      <td>Verificação dos requisitos formais pela PMS-09</td>\n",
       "      <td>2024-02-13</td>\n",
       "      <td>2024-02-17</td>\n",
       "      <td>André/Gabriel</td>\n",
       "    </tr>\n",
       "    <tr>\n",
       "      <th>6</th>\n",
       "      <td>Encaminhamento da OS à Assessoria Jurídica do ...</td>\n",
       "      <td>2024-02-18</td>\n",
       "      <td>2024-02-19</td>\n",
       "      <td>André/Gabriel</td>\n",
       "    </tr>\n",
       "    <tr>\n",
       "      <th>7</th>\n",
       "      <td>Análise pela Assessoria para Assuntos Especiai...</td>\n",
       "      <td>2024-02-20</td>\n",
       "      <td>2024-02-21</td>\n",
       "      <td>André/Gabriel</td>\n",
       "    </tr>\n",
       "    <tr>\n",
       "      <th>8</th>\n",
       "      <td>Aprovação e assinatura pelo Prefeito</td>\n",
       "      <td>2024-02-22</td>\n",
       "      <td>2024-02-23</td>\n",
       "      <td>André/Gabriel</td>\n",
       "    </tr>\n",
       "    <tr>\n",
       "      <th>9</th>\n",
       "      <td>Publicação da Ordem de Serviço no DOPA</td>\n",
       "      <td>2024-02-24</td>\n",
       "      <td>2024-03-09</td>\n",
       "      <td>André/Gabriel</td>\n",
       "    </tr>\n",
       "    <tr>\n",
       "      <th>10</th>\n",
       "      <td>Formação de Grupo de Trabalho do Anuário</td>\n",
       "      <td>2024-04-10</td>\n",
       "      <td>2024-05-10</td>\n",
       "      <td>André/Gabriel</td>\n",
       "    </tr>\n",
       "    <tr>\n",
       "      <th>11</th>\n",
       "      <td>Elaboração da minuta da portaria de nomeação d...</td>\n",
       "      <td>2024-04-10</td>\n",
       "      <td>2024-04-12</td>\n",
       "      <td>André/Gabriel</td>\n",
       "    </tr>\n",
       "    <tr>\n",
       "      <th>12</th>\n",
       "      <td>Abertura do Processo SEI</td>\n",
       "      <td>2024-04-13</td>\n",
       "      <td>2024-04-15</td>\n",
       "      <td>André/Gabriel</td>\n",
       "    </tr>\n",
       "    <tr>\n",
       "      <th>13</th>\n",
       "      <td>Aprovação pelo GS da SMPAE</td>\n",
       "      <td>2024-04-16</td>\n",
       "      <td>2024-04-19</td>\n",
       "      <td>André/Gabriel</td>\n",
       "    </tr>\n",
       "    <tr>\n",
       "      <th>14</th>\n",
       "      <td>Verificação dos requisitos formais pela PMS-09</td>\n",
       "      <td>2024-04-20</td>\n",
       "      <td>2024-04-27</td>\n",
       "      <td>André/Gabriel</td>\n",
       "    </tr>\n",
       "    <tr>\n",
       "      <th>15</th>\n",
       "      <td>Aprovação e assinatura pelo Prefeito</td>\n",
       "      <td>2024-04-28</td>\n",
       "      <td>2024-05-04</td>\n",
       "      <td>André/Gabriel</td>\n",
       "    </tr>\n",
       "    <tr>\n",
       "      <th>16</th>\n",
       "      <td>Publicação da Portaria no DOPA</td>\n",
       "      <td>2024-05-05</td>\n",
       "      <td>2024-05-10</td>\n",
       "      <td>André/Gabriel</td>\n",
       "    </tr>\n",
       "    <tr>\n",
       "      <th>17</th>\n",
       "      <td>Atualização dos Dados de 2023</td>\n",
       "      <td>2024-04-10</td>\n",
       "      <td>2024-11-30</td>\n",
       "      <td>Gabriel</td>\n",
       "    </tr>\n",
       "    <tr>\n",
       "      <th>18</th>\n",
       "      <td>Coleta de Dados e Construção de Tabelas</td>\n",
       "      <td>2024-04-10</td>\n",
       "      <td>2024-06-15</td>\n",
       "      <td>Gabriel</td>\n",
       "    </tr>\n",
       "    <tr>\n",
       "      <th>19</th>\n",
       "      <td>Estruturação das tabelas pela equipe</td>\n",
       "      <td>2024-04-10</td>\n",
       "      <td>2024-04-20</td>\n",
       "      <td>Gabriel</td>\n",
       "    </tr>\n",
       "    <tr>\n",
       "      <th>20</th>\n",
       "      <td>Juntada das tabelas aos processos SEI</td>\n",
       "      <td>2024-04-10</td>\n",
       "      <td>2024-04-27</td>\n",
       "      <td>Gabriel</td>\n",
       "    </tr>\n",
       "    <tr>\n",
       "      <th>21</th>\n",
       "      <td>Envio dos processos SEI para os órgãos</td>\n",
       "      <td>2024-04-21</td>\n",
       "      <td>2024-05-10</td>\n",
       "      <td>Gabriel</td>\n",
       "    </tr>\n",
       "    <tr>\n",
       "      <th>22</th>\n",
       "      <td>Retorno do email pelos órgãos com os arquivos ...</td>\n",
       "      <td>2024-04-28</td>\n",
       "      <td>2024-06-07</td>\n",
       "      <td>Externo</td>\n",
       "    </tr>\n",
       "    <tr>\n",
       "      <th>23</th>\n",
       "      <td>Solicitação de retorno dos órgãos que não envi...</td>\n",
       "      <td>2024-05-11</td>\n",
       "      <td>2024-06-15</td>\n",
       "      <td>Gabriel</td>\n",
       "    </tr>\n",
       "    <tr>\n",
       "      <th>24</th>\n",
       "      <td>Revisão</td>\n",
       "      <td>2024-06-16</td>\n",
       "      <td>2024-07-13</td>\n",
       "      <td>Gabriel</td>\n",
       "    </tr>\n",
       "    <tr>\n",
       "      <th>25</th>\n",
       "      <td>Revisão de conteúdo com os órgãos (inconsistên...</td>\n",
       "      <td>2024-06-16</td>\n",
       "      <td>2024-06-22</td>\n",
       "      <td>Gabriel</td>\n",
       "    </tr>\n",
       "    <tr>\n",
       "      <th>26</th>\n",
       "      <td>Alinhamento com outras fontes de referência of...</td>\n",
       "      <td>2024-06-23</td>\n",
       "      <td>2024-06-29</td>\n",
       "      <td>Gabriel</td>\n",
       "    </tr>\n",
       "    <tr>\n",
       "      <th>27</th>\n",
       "      <td>Operacionalização das sugestões e retificações...</td>\n",
       "      <td>2024-06-30</td>\n",
       "      <td>2024-07-06</td>\n",
       "      <td>Gabriel</td>\n",
       "    </tr>\n",
       "    <tr>\n",
       "      <th>28</th>\n",
       "      <td>Validação dos arquivos Excel</td>\n",
       "      <td>2024-07-07</td>\n",
       "      <td>2024-07-13</td>\n",
       "      <td>Gabriel</td>\n",
       "    </tr>\n",
       "    <tr>\n",
       "      <th>29</th>\n",
       "      <td>Estruturação dos dados da versão digital em Po...</td>\n",
       "      <td>2024-07-14</td>\n",
       "      <td>2024-11-30</td>\n",
       "      <td>Gabriel</td>\n",
       "    </tr>\n",
       "    <tr>\n",
       "      <th>30</th>\n",
       "      <td>Elaboração do Eixo Gestão</td>\n",
       "      <td>2024-07-14</td>\n",
       "      <td>2024-07-27</td>\n",
       "      <td>Gabriel</td>\n",
       "    </tr>\n",
       "    <tr>\n",
       "      <th>31</th>\n",
       "      <td>Elaboração do Eixo Desenvolvimento Econômico</td>\n",
       "      <td>2024-07-28</td>\n",
       "      <td>2024-08-10</td>\n",
       "      <td>Gabriel</td>\n",
       "    </tr>\n",
       "    <tr>\n",
       "      <th>32</th>\n",
       "      <td>Elaboração do Eixo Serviços Urbanos</td>\n",
       "      <td>2024-08-11</td>\n",
       "      <td>2024-08-24</td>\n",
       "      <td>Gabriel</td>\n",
       "    </tr>\n",
       "    <tr>\n",
       "      <th>33</th>\n",
       "      <td>Elaboração do Eixo Desenvolvimento Social</td>\n",
       "      <td>2024-08-25</td>\n",
       "      <td>2024-09-07</td>\n",
       "      <td>Gabriel</td>\n",
       "    </tr>\n",
       "    <tr>\n",
       "      <th>34</th>\n",
       "      <td>Elaboração do Eixo Sobre a Cidade</td>\n",
       "      <td>2024-09-08</td>\n",
       "      <td>2024-09-21</td>\n",
       "      <td>Gabriel</td>\n",
       "    </tr>\n",
       "    <tr>\n",
       "      <th>35</th>\n",
       "      <td>Elaboração do Eixo Sobre a Publicação</td>\n",
       "      <td>2024-09-22</td>\n",
       "      <td>2024-10-05</td>\n",
       "      <td>Gabriel</td>\n",
       "    </tr>\n",
       "    <tr>\n",
       "      <th>36</th>\n",
       "      <td>Requisição da ficha catalográfica</td>\n",
       "      <td>2024-10-06</td>\n",
       "      <td>2024-10-19</td>\n",
       "      <td>André/Biblioteca</td>\n",
       "    </tr>\n",
       "    <tr>\n",
       "      <th>37</th>\n",
       "      <td>Elaboração do texto de Apresentação</td>\n",
       "      <td>2024-10-20</td>\n",
       "      <td>2024-11-02</td>\n",
       "      <td>Gabriel</td>\n",
       "    </tr>\n",
       "    <tr>\n",
       "      <th>38</th>\n",
       "      <td>Solicitação de capa para o AE2022 para a Comun...</td>\n",
       "      <td>2024-11-03</td>\n",
       "      <td>2024-11-16</td>\n",
       "      <td>Miguel</td>\n",
       "    </tr>\n",
       "    <tr>\n",
       "      <th>39</th>\n",
       "      <td>Validação da Capa e do Texto de Apresentação p...</td>\n",
       "      <td>2024-11-17</td>\n",
       "      <td>2024-11-30</td>\n",
       "      <td>André</td>\n",
       "    </tr>\n",
       "    <tr>\n",
       "      <th>40</th>\n",
       "      <td>Divulgação do Anuário Estatístico publicado</td>\n",
       "      <td>2024-12-01</td>\n",
       "      <td>2024-12-28</td>\n",
       "      <td>André</td>\n",
       "    </tr>\n",
       "    <tr>\n",
       "      <th>41</th>\n",
       "      <td>Apresentação e Aprovação pelo GS da SMPAE</td>\n",
       "      <td>2024-12-01</td>\n",
       "      <td>2024-12-07</td>\n",
       "      <td>André</td>\n",
       "    </tr>\n",
       "    <tr>\n",
       "      <th>42</th>\n",
       "      <td>Operacionalização das sugestões e retificações...</td>\n",
       "      <td>2024-12-08</td>\n",
       "      <td>2024-12-14</td>\n",
       "      <td>Gabriel</td>\n",
       "    </tr>\n",
       "    <tr>\n",
       "      <th>43</th>\n",
       "      <td>Publicação dos relatórios do Power BI no site ...</td>\n",
       "      <td>2024-12-15</td>\n",
       "      <td>2024-12-21</td>\n",
       "      <td>Comunicação Social</td>\n",
       "    </tr>\n",
       "    <tr>\n",
       "      <th>44</th>\n",
       "      <td>Publicização de matéria nas redes sociais e ca...</td>\n",
       "      <td>2024-12-22</td>\n",
       "      <td>2024-12-28</td>\n",
       "      <td>Comunicação Social</td>\n",
       "    </tr>\n",
       "  </tbody>\n",
       "</table>\n",
       "</div>"
      ],
      "text/plain": [
       "                                               Tarefa     Início        Fim  \\\n",
       "0         Elaboração e Publicação da Ordem de Serviço 2024-02-09 2024-03-09   \n",
       "1            Elaboração da Minuta da Ordem de Serviço 2024-02-09 2024-02-09   \n",
       "2                            Abertura do Processo SEI 2024-02-09 2024-02-09   \n",
       "3                             Envio do processo ao GS 2024-02-09 2024-02-09   \n",
       "4                          Aprovação pelo GS da SMPAE 2024-02-09 2024-02-09   \n",
       "5      Verificação dos requisitos formais pela PMS-09 2024-02-13 2024-02-17   \n",
       "6   Encaminhamento da OS à Assessoria Jurídica do ... 2024-02-18 2024-02-19   \n",
       "7   Análise pela Assessoria para Assuntos Especiai... 2024-02-20 2024-02-21   \n",
       "8                Aprovação e assinatura pelo Prefeito 2024-02-22 2024-02-23   \n",
       "9              Publicação da Ordem de Serviço no DOPA 2024-02-24 2024-03-09   \n",
       "10           Formação de Grupo de Trabalho do Anuário 2024-04-10 2024-05-10   \n",
       "11  Elaboração da minuta da portaria de nomeação d... 2024-04-10 2024-04-12   \n",
       "12                           Abertura do Processo SEI 2024-04-13 2024-04-15   \n",
       "13                         Aprovação pelo GS da SMPAE 2024-04-16 2024-04-19   \n",
       "14     Verificação dos requisitos formais pela PMS-09 2024-04-20 2024-04-27   \n",
       "15               Aprovação e assinatura pelo Prefeito 2024-04-28 2024-05-04   \n",
       "16                     Publicação da Portaria no DOPA 2024-05-05 2024-05-10   \n",
       "17                      Atualização dos Dados de 2023 2024-04-10 2024-11-30   \n",
       "18            Coleta de Dados e Construção de Tabelas 2024-04-10 2024-06-15   \n",
       "19               Estruturação das tabelas pela equipe 2024-04-10 2024-04-20   \n",
       "20              Juntada das tabelas aos processos SEI 2024-04-10 2024-04-27   \n",
       "21             Envio dos processos SEI para os órgãos 2024-04-21 2024-05-10   \n",
       "22  Retorno do email pelos órgãos com os arquivos ... 2024-04-28 2024-06-07   \n",
       "23  Solicitação de retorno dos órgãos que não envi... 2024-05-11 2024-06-15   \n",
       "24                                            Revisão 2024-06-16 2024-07-13   \n",
       "25  Revisão de conteúdo com os órgãos (inconsistên... 2024-06-16 2024-06-22   \n",
       "26  Alinhamento com outras fontes de referência of... 2024-06-23 2024-06-29   \n",
       "27  Operacionalização das sugestões e retificações... 2024-06-30 2024-07-06   \n",
       "28                       Validação dos arquivos Excel 2024-07-07 2024-07-13   \n",
       "29  Estruturação dos dados da versão digital em Po... 2024-07-14 2024-11-30   \n",
       "30                          Elaboração do Eixo Gestão 2024-07-14 2024-07-27   \n",
       "31       Elaboração do Eixo Desenvolvimento Econômico 2024-07-28 2024-08-10   \n",
       "32                Elaboração do Eixo Serviços Urbanos 2024-08-11 2024-08-24   \n",
       "33          Elaboração do Eixo Desenvolvimento Social 2024-08-25 2024-09-07   \n",
       "34                  Elaboração do Eixo Sobre a Cidade 2024-09-08 2024-09-21   \n",
       "35              Elaboração do Eixo Sobre a Publicação 2024-09-22 2024-10-05   \n",
       "36                  Requisição da ficha catalográfica 2024-10-06 2024-10-19   \n",
       "37                Elaboração do texto de Apresentação 2024-10-20 2024-11-02   \n",
       "38  Solicitação de capa para o AE2022 para a Comun... 2024-11-03 2024-11-16   \n",
       "39  Validação da Capa e do Texto de Apresentação p... 2024-11-17 2024-11-30   \n",
       "40        Divulgação do Anuário Estatístico publicado 2024-12-01 2024-12-28   \n",
       "41          Apresentação e Aprovação pelo GS da SMPAE 2024-12-01 2024-12-07   \n",
       "42  Operacionalização das sugestões e retificações... 2024-12-08 2024-12-14   \n",
       "43  Publicação dos relatórios do Power BI no site ... 2024-12-15 2024-12-21   \n",
       "44  Publicização de matéria nas redes sociais e ca... 2024-12-22 2024-12-28   \n",
       "\n",
       "            Responsável  \n",
       "0         André/Gabriel  \n",
       "1         André/Gabriel  \n",
       "2         André/Gabriel  \n",
       "3         André/Gabriel  \n",
       "4         André/Gabriel  \n",
       "5         André/Gabriel  \n",
       "6         André/Gabriel  \n",
       "7         André/Gabriel  \n",
       "8         André/Gabriel  \n",
       "9         André/Gabriel  \n",
       "10        André/Gabriel  \n",
       "11        André/Gabriel  \n",
       "12        André/Gabriel  \n",
       "13        André/Gabriel  \n",
       "14        André/Gabriel  \n",
       "15        André/Gabriel  \n",
       "16        André/Gabriel  \n",
       "17              Gabriel  \n",
       "18              Gabriel  \n",
       "19              Gabriel  \n",
       "20              Gabriel  \n",
       "21              Gabriel  \n",
       "22              Externo  \n",
       "23              Gabriel  \n",
       "24              Gabriel  \n",
       "25              Gabriel  \n",
       "26              Gabriel  \n",
       "27              Gabriel  \n",
       "28              Gabriel  \n",
       "29              Gabriel  \n",
       "30              Gabriel  \n",
       "31              Gabriel  \n",
       "32              Gabriel  \n",
       "33              Gabriel  \n",
       "34              Gabriel  \n",
       "35              Gabriel  \n",
       "36     André/Biblioteca  \n",
       "37              Gabriel  \n",
       "38               Miguel  \n",
       "39                André  \n",
       "40                André  \n",
       "41                André  \n",
       "42              Gabriel  \n",
       "43  Comunicação Social   \n",
       "44  Comunicação Social   "
      ]
     },
     "metadata": {},
     "output_type": "display_data"
    }
   ],
   "source": [
    "df_cronograma = pd.read_excel('cronograma_AE2023.xlsx')\n",
    "display (df_cronograma)"
   ]
  },
  {
   "cell_type": "markdown",
   "metadata": {},
   "source": [
    "## Gráfico de Gantt"
   ]
  },
  {
   "cell_type": "code",
   "execution_count": 5,
   "metadata": {},
   "outputs": [
    {
     "data": {
      "application/vnd.plotly.v1+json": {
       "config": {
        "plotlyServerURL": "https://plot.ly"
       },
       "data": [
        {
         "alignmentgroup": "True",
         "base": [
          "2024-02-09T00:00:00",
          "2024-02-09T00:00:00",
          "2024-02-09T00:00:00",
          "2024-02-09T00:00:00",
          "2024-02-09T00:00:00",
          "2024-02-13T00:00:00",
          "2024-02-18T00:00:00",
          "2024-02-20T00:00:00",
          "2024-02-22T00:00:00",
          "2024-02-24T00:00:00",
          "2024-04-10T00:00:00",
          "2024-04-10T00:00:00",
          "2024-04-13T00:00:00",
          "2024-04-16T00:00:00",
          "2024-04-20T00:00:00",
          "2024-04-28T00:00:00",
          "2024-05-05T00:00:00"
         ],
         "hovertemplate": "Responsável=André/Gabriel<br>Início=%{base}<br>Fim=%{x}<br>Tarefa=%{y}<extra></extra>",
         "legendgroup": "André/Gabriel",
         "marker": {
          "color": "#636efa",
          "pattern": {
           "shape": ""
          }
         },
         "name": "André/Gabriel",
         "offsetgroup": "André/Gabriel",
         "orientation": "h",
         "showlegend": true,
         "textposition": "auto",
         "type": "bar",
         "x": [
          2505600000,
          0,
          0,
          0,
          0,
          345600000,
          86400000,
          86400000,
          86400000,
          1209600000,
          2592000000,
          172800000,
          172800000,
          259200000,
          604800000,
          518400000,
          432000000
         ],
         "xaxis": "x",
         "y": [
          "Elaboração e Publicação da Ordem de Serviço",
          "Elaboração da Minuta da Ordem de Serviço",
          "Abertura do Processo SEI",
          "Envio do processo ao GS",
          "Aprovação pelo GS da SMPAE",
          "Verificação dos requisitos formais pela PMS-09",
          "Encaminhamento da OS à Assessoria Jurídica do Gabinete do Prefeito",
          "Análise pela Assessoria para Assuntos Especiais e Institucionais Legislativos - PGM",
          "Aprovação e assinatura pelo Prefeito",
          "Publicação da Ordem de Serviço no DOPA",
          "Formação de Grupo de Trabalho do Anuário",
          "Elaboração da minuta da portaria de nomeação do GT",
          "Abertura do Processo SEI",
          "Aprovação pelo GS da SMPAE",
          "Verificação dos requisitos formais pela PMS-09",
          "Aprovação e assinatura pelo Prefeito",
          "Publicação da Portaria no DOPA"
         ],
         "yaxis": "y"
        },
        {
         "alignmentgroup": "True",
         "base": [
          "2024-04-10T00:00:00",
          "2024-04-10T00:00:00",
          "2024-04-10T00:00:00",
          "2024-04-10T00:00:00",
          "2024-04-21T00:00:00",
          "2024-05-11T00:00:00",
          "2024-06-16T00:00:00",
          "2024-06-16T00:00:00",
          "2024-06-23T00:00:00",
          "2024-06-30T00:00:00",
          "2024-07-07T00:00:00",
          "2024-07-14T00:00:00",
          "2024-07-14T00:00:00",
          "2024-07-28T00:00:00",
          "2024-08-11T00:00:00",
          "2024-08-25T00:00:00",
          "2024-09-08T00:00:00",
          "2024-09-22T00:00:00",
          "2024-10-20T00:00:00",
          "2024-12-08T00:00:00"
         ],
         "hovertemplate": "Responsável=Gabriel<br>Início=%{base}<br>Fim=%{x}<br>Tarefa=%{y}<extra></extra>",
         "legendgroup": "Gabriel",
         "marker": {
          "color": "#EF553B",
          "pattern": {
           "shape": ""
          }
         },
         "name": "Gabriel",
         "offsetgroup": "Gabriel",
         "orientation": "h",
         "showlegend": true,
         "textposition": "auto",
         "type": "bar",
         "x": [
          20217600000,
          5702400000,
          864000000,
          1468800000,
          1641600000,
          3024000000,
          2332800000,
          518400000,
          518400000,
          518400000,
          518400000,
          12009600000,
          1123200000,
          1123200000,
          1123200000,
          1123200000,
          1123200000,
          1123200000,
          1123200000,
          518400000
         ],
         "xaxis": "x",
         "y": [
          "Atualização dos Dados de 2023",
          "Coleta de Dados e Construção de Tabelas",
          "Estruturação das tabelas pela equipe",
          "Juntada das tabelas aos processos SEI",
          "Envio dos processos SEI para os órgãos",
          "Solicitação de retorno dos órgãos que não enviaram o solicitado",
          "Revisão",
          "Revisão de conteúdo com os órgãos (inconsistências)",
          "Alinhamento com outras fontes de referência oficiais",
          "Operacionalização das sugestões e retificações solicitadas pelas revisões",
          "Validação dos arquivos Excel",
          "Estruturação dos dados da versão digital em Power BI",
          "Elaboração do Eixo Gestão",
          "Elaboração do Eixo Desenvolvimento Econômico",
          "Elaboração do Eixo Serviços Urbanos",
          "Elaboração do Eixo Desenvolvimento Social",
          "Elaboração do Eixo Sobre a Cidade",
          "Elaboração do Eixo Sobre a Publicação",
          "Elaboração do texto de Apresentação",
          "Operacionalização das sugestões e retificações solicitadas pelas revisões"
         ],
         "yaxis": "y"
        },
        {
         "alignmentgroup": "True",
         "base": [
          "2024-04-28T00:00:00"
         ],
         "hovertemplate": "Responsável=Externo<br>Início=%{base}<br>Fim=%{x}<br>Tarefa=%{y}<extra></extra>",
         "legendgroup": "Externo",
         "marker": {
          "color": "#00cc96",
          "pattern": {
           "shape": ""
          }
         },
         "name": "Externo",
         "offsetgroup": "Externo",
         "orientation": "h",
         "showlegend": true,
         "textposition": "auto",
         "type": "bar",
         "x": [
          3456000000
         ],
         "xaxis": "x",
         "y": [
          "Retorno do email pelos órgãos com os arquivos preenchidos"
         ],
         "yaxis": "y"
        },
        {
         "alignmentgroup": "True",
         "base": [
          "2024-10-06T00:00:00"
         ],
         "hovertemplate": "Responsável=André/Biblioteca<br>Início=%{base}<br>Fim=%{x}<br>Tarefa=%{y}<extra></extra>",
         "legendgroup": "André/Biblioteca",
         "marker": {
          "color": "#ab63fa",
          "pattern": {
           "shape": ""
          }
         },
         "name": "André/Biblioteca",
         "offsetgroup": "André/Biblioteca",
         "orientation": "h",
         "showlegend": true,
         "textposition": "auto",
         "type": "bar",
         "x": [
          1123200000
         ],
         "xaxis": "x",
         "y": [
          "Requisição da ficha catalográfica"
         ],
         "yaxis": "y"
        },
        {
         "alignmentgroup": "True",
         "base": [
          "2024-11-03T00:00:00"
         ],
         "hovertemplate": "Responsável=Miguel<br>Início=%{base}<br>Fim=%{x}<br>Tarefa=%{y}<extra></extra>",
         "legendgroup": "Miguel",
         "marker": {
          "color": "#FFA15A",
          "pattern": {
           "shape": ""
          }
         },
         "name": "Miguel",
         "offsetgroup": "Miguel",
         "orientation": "h",
         "showlegend": true,
         "textposition": "auto",
         "type": "bar",
         "x": [
          1123200000
         ],
         "xaxis": "x",
         "y": [
          "Solicitação de capa para o AE2022 para a Comunicação Social"
         ],
         "yaxis": "y"
        },
        {
         "alignmentgroup": "True",
         "base": [
          "2024-11-17T00:00:00",
          "2024-12-01T00:00:00",
          "2024-12-01T00:00:00"
         ],
         "hovertemplate": "Responsável=André<br>Início=%{base}<br>Fim=%{x}<br>Tarefa=%{y}<extra></extra>",
         "legendgroup": "André",
         "marker": {
          "color": "#19d3f3",
          "pattern": {
           "shape": ""
          }
         },
         "name": "André",
         "offsetgroup": "André",
         "orientation": "h",
         "showlegend": true,
         "textposition": "auto",
         "type": "bar",
         "x": [
          1123200000,
          2332800000,
          518400000
         ],
         "xaxis": "x",
         "y": [
          "Validação da Capa e do Texto de Apresentação pelo GS",
          "Divulgação do Anuário Estatístico publicado",
          "Apresentação e Aprovação pelo GS da SMPAE"
         ],
         "yaxis": "y"
        },
        {
         "alignmentgroup": "True",
         "base": [
          "2024-12-15T00:00:00",
          "2024-12-22T00:00:00"
         ],
         "hovertemplate": "Responsável=Comunicação Social <br>Início=%{base}<br>Fim=%{x}<br>Tarefa=%{y}<extra></extra>",
         "legendgroup": "Comunicação Social ",
         "marker": {
          "color": "#FF6692",
          "pattern": {
           "shape": ""
          }
         },
         "name": "Comunicação Social ",
         "offsetgroup": "Comunicação Social ",
         "orientation": "h",
         "showlegend": true,
         "textposition": "auto",
         "type": "bar",
         "x": [
          518400000,
          518400000
         ],
         "xaxis": "x",
         "y": [
          "Publicação dos relatórios do Power BI no site da SMPAE e no ObservaPoA",
          "Publicização de matéria nas redes sociais e canais internos da PMPA"
         ],
         "yaxis": "y"
        }
       ],
       "layout": {
        "barmode": "overlay",
        "legend": {
         "title": {
          "text": "Responsável"
         },
         "tracegroupgap": 0
        },
        "margin": {
         "t": 60
        },
        "template": {
         "data": {
          "bar": [
           {
            "error_x": {
             "color": "#2a3f5f"
            },
            "error_y": {
             "color": "#2a3f5f"
            },
            "marker": {
             "line": {
              "color": "#E5ECF6",
              "width": 0.5
             },
             "pattern": {
              "fillmode": "overlay",
              "size": 10,
              "solidity": 0.2
             }
            },
            "type": "bar"
           }
          ],
          "barpolar": [
           {
            "marker": {
             "line": {
              "color": "#E5ECF6",
              "width": 0.5
             },
             "pattern": {
              "fillmode": "overlay",
              "size": 10,
              "solidity": 0.2
             }
            },
            "type": "barpolar"
           }
          ],
          "carpet": [
           {
            "aaxis": {
             "endlinecolor": "#2a3f5f",
             "gridcolor": "white",
             "linecolor": "white",
             "minorgridcolor": "white",
             "startlinecolor": "#2a3f5f"
            },
            "baxis": {
             "endlinecolor": "#2a3f5f",
             "gridcolor": "white",
             "linecolor": "white",
             "minorgridcolor": "white",
             "startlinecolor": "#2a3f5f"
            },
            "type": "carpet"
           }
          ],
          "choropleth": [
           {
            "colorbar": {
             "outlinewidth": 0,
             "ticks": ""
            },
            "type": "choropleth"
           }
          ],
          "contour": [
           {
            "colorbar": {
             "outlinewidth": 0,
             "ticks": ""
            },
            "colorscale": [
             [
              0,
              "#0d0887"
             ],
             [
              0.1111111111111111,
              "#46039f"
             ],
             [
              0.2222222222222222,
              "#7201a8"
             ],
             [
              0.3333333333333333,
              "#9c179e"
             ],
             [
              0.4444444444444444,
              "#bd3786"
             ],
             [
              0.5555555555555556,
              "#d8576b"
             ],
             [
              0.6666666666666666,
              "#ed7953"
             ],
             [
              0.7777777777777778,
              "#fb9f3a"
             ],
             [
              0.8888888888888888,
              "#fdca26"
             ],
             [
              1,
              "#f0f921"
             ]
            ],
            "type": "contour"
           }
          ],
          "contourcarpet": [
           {
            "colorbar": {
             "outlinewidth": 0,
             "ticks": ""
            },
            "type": "contourcarpet"
           }
          ],
          "heatmap": [
           {
            "colorbar": {
             "outlinewidth": 0,
             "ticks": ""
            },
            "colorscale": [
             [
              0,
              "#0d0887"
             ],
             [
              0.1111111111111111,
              "#46039f"
             ],
             [
              0.2222222222222222,
              "#7201a8"
             ],
             [
              0.3333333333333333,
              "#9c179e"
             ],
             [
              0.4444444444444444,
              "#bd3786"
             ],
             [
              0.5555555555555556,
              "#d8576b"
             ],
             [
              0.6666666666666666,
              "#ed7953"
             ],
             [
              0.7777777777777778,
              "#fb9f3a"
             ],
             [
              0.8888888888888888,
              "#fdca26"
             ],
             [
              1,
              "#f0f921"
             ]
            ],
            "type": "heatmap"
           }
          ],
          "heatmapgl": [
           {
            "colorbar": {
             "outlinewidth": 0,
             "ticks": ""
            },
            "colorscale": [
             [
              0,
              "#0d0887"
             ],
             [
              0.1111111111111111,
              "#46039f"
             ],
             [
              0.2222222222222222,
              "#7201a8"
             ],
             [
              0.3333333333333333,
              "#9c179e"
             ],
             [
              0.4444444444444444,
              "#bd3786"
             ],
             [
              0.5555555555555556,
              "#d8576b"
             ],
             [
              0.6666666666666666,
              "#ed7953"
             ],
             [
              0.7777777777777778,
              "#fb9f3a"
             ],
             [
              0.8888888888888888,
              "#fdca26"
             ],
             [
              1,
              "#f0f921"
             ]
            ],
            "type": "heatmapgl"
           }
          ],
          "histogram": [
           {
            "marker": {
             "pattern": {
              "fillmode": "overlay",
              "size": 10,
              "solidity": 0.2
             }
            },
            "type": "histogram"
           }
          ],
          "histogram2d": [
           {
            "colorbar": {
             "outlinewidth": 0,
             "ticks": ""
            },
            "colorscale": [
             [
              0,
              "#0d0887"
             ],
             [
              0.1111111111111111,
              "#46039f"
             ],
             [
              0.2222222222222222,
              "#7201a8"
             ],
             [
              0.3333333333333333,
              "#9c179e"
             ],
             [
              0.4444444444444444,
              "#bd3786"
             ],
             [
              0.5555555555555556,
              "#d8576b"
             ],
             [
              0.6666666666666666,
              "#ed7953"
             ],
             [
              0.7777777777777778,
              "#fb9f3a"
             ],
             [
              0.8888888888888888,
              "#fdca26"
             ],
             [
              1,
              "#f0f921"
             ]
            ],
            "type": "histogram2d"
           }
          ],
          "histogram2dcontour": [
           {
            "colorbar": {
             "outlinewidth": 0,
             "ticks": ""
            },
            "colorscale": [
             [
              0,
              "#0d0887"
             ],
             [
              0.1111111111111111,
              "#46039f"
             ],
             [
              0.2222222222222222,
              "#7201a8"
             ],
             [
              0.3333333333333333,
              "#9c179e"
             ],
             [
              0.4444444444444444,
              "#bd3786"
             ],
             [
              0.5555555555555556,
              "#d8576b"
             ],
             [
              0.6666666666666666,
              "#ed7953"
             ],
             [
              0.7777777777777778,
              "#fb9f3a"
             ],
             [
              0.8888888888888888,
              "#fdca26"
             ],
             [
              1,
              "#f0f921"
             ]
            ],
            "type": "histogram2dcontour"
           }
          ],
          "mesh3d": [
           {
            "colorbar": {
             "outlinewidth": 0,
             "ticks": ""
            },
            "type": "mesh3d"
           }
          ],
          "parcoords": [
           {
            "line": {
             "colorbar": {
              "outlinewidth": 0,
              "ticks": ""
             }
            },
            "type": "parcoords"
           }
          ],
          "pie": [
           {
            "automargin": true,
            "type": "pie"
           }
          ],
          "scatter": [
           {
            "fillpattern": {
             "fillmode": "overlay",
             "size": 10,
             "solidity": 0.2
            },
            "type": "scatter"
           }
          ],
          "scatter3d": [
           {
            "line": {
             "colorbar": {
              "outlinewidth": 0,
              "ticks": ""
             }
            },
            "marker": {
             "colorbar": {
              "outlinewidth": 0,
              "ticks": ""
             }
            },
            "type": "scatter3d"
           }
          ],
          "scattercarpet": [
           {
            "marker": {
             "colorbar": {
              "outlinewidth": 0,
              "ticks": ""
             }
            },
            "type": "scattercarpet"
           }
          ],
          "scattergeo": [
           {
            "marker": {
             "colorbar": {
              "outlinewidth": 0,
              "ticks": ""
             }
            },
            "type": "scattergeo"
           }
          ],
          "scattergl": [
           {
            "marker": {
             "colorbar": {
              "outlinewidth": 0,
              "ticks": ""
             }
            },
            "type": "scattergl"
           }
          ],
          "scattermapbox": [
           {
            "marker": {
             "colorbar": {
              "outlinewidth": 0,
              "ticks": ""
             }
            },
            "type": "scattermapbox"
           }
          ],
          "scatterpolar": [
           {
            "marker": {
             "colorbar": {
              "outlinewidth": 0,
              "ticks": ""
             }
            },
            "type": "scatterpolar"
           }
          ],
          "scatterpolargl": [
           {
            "marker": {
             "colorbar": {
              "outlinewidth": 0,
              "ticks": ""
             }
            },
            "type": "scatterpolargl"
           }
          ],
          "scatterternary": [
           {
            "marker": {
             "colorbar": {
              "outlinewidth": 0,
              "ticks": ""
             }
            },
            "type": "scatterternary"
           }
          ],
          "surface": [
           {
            "colorbar": {
             "outlinewidth": 0,
             "ticks": ""
            },
            "colorscale": [
             [
              0,
              "#0d0887"
             ],
             [
              0.1111111111111111,
              "#46039f"
             ],
             [
              0.2222222222222222,
              "#7201a8"
             ],
             [
              0.3333333333333333,
              "#9c179e"
             ],
             [
              0.4444444444444444,
              "#bd3786"
             ],
             [
              0.5555555555555556,
              "#d8576b"
             ],
             [
              0.6666666666666666,
              "#ed7953"
             ],
             [
              0.7777777777777778,
              "#fb9f3a"
             ],
             [
              0.8888888888888888,
              "#fdca26"
             ],
             [
              1,
              "#f0f921"
             ]
            ],
            "type": "surface"
           }
          ],
          "table": [
           {
            "cells": {
             "fill": {
              "color": "#EBF0F8"
             },
             "line": {
              "color": "white"
             }
            },
            "header": {
             "fill": {
              "color": "#C8D4E3"
             },
             "line": {
              "color": "white"
             }
            },
            "type": "table"
           }
          ]
         },
         "layout": {
          "annotationdefaults": {
           "arrowcolor": "#2a3f5f",
           "arrowhead": 0,
           "arrowwidth": 1
          },
          "autotypenumbers": "strict",
          "coloraxis": {
           "colorbar": {
            "outlinewidth": 0,
            "ticks": ""
           }
          },
          "colorscale": {
           "diverging": [
            [
             0,
             "#8e0152"
            ],
            [
             0.1,
             "#c51b7d"
            ],
            [
             0.2,
             "#de77ae"
            ],
            [
             0.3,
             "#f1b6da"
            ],
            [
             0.4,
             "#fde0ef"
            ],
            [
             0.5,
             "#f7f7f7"
            ],
            [
             0.6,
             "#e6f5d0"
            ],
            [
             0.7,
             "#b8e186"
            ],
            [
             0.8,
             "#7fbc41"
            ],
            [
             0.9,
             "#4d9221"
            ],
            [
             1,
             "#276419"
            ]
           ],
           "sequential": [
            [
             0,
             "#0d0887"
            ],
            [
             0.1111111111111111,
             "#46039f"
            ],
            [
             0.2222222222222222,
             "#7201a8"
            ],
            [
             0.3333333333333333,
             "#9c179e"
            ],
            [
             0.4444444444444444,
             "#bd3786"
            ],
            [
             0.5555555555555556,
             "#d8576b"
            ],
            [
             0.6666666666666666,
             "#ed7953"
            ],
            [
             0.7777777777777778,
             "#fb9f3a"
            ],
            [
             0.8888888888888888,
             "#fdca26"
            ],
            [
             1,
             "#f0f921"
            ]
           ],
           "sequentialminus": [
            [
             0,
             "#0d0887"
            ],
            [
             0.1111111111111111,
             "#46039f"
            ],
            [
             0.2222222222222222,
             "#7201a8"
            ],
            [
             0.3333333333333333,
             "#9c179e"
            ],
            [
             0.4444444444444444,
             "#bd3786"
            ],
            [
             0.5555555555555556,
             "#d8576b"
            ],
            [
             0.6666666666666666,
             "#ed7953"
            ],
            [
             0.7777777777777778,
             "#fb9f3a"
            ],
            [
             0.8888888888888888,
             "#fdca26"
            ],
            [
             1,
             "#f0f921"
            ]
           ]
          },
          "colorway": [
           "#636efa",
           "#EF553B",
           "#00cc96",
           "#ab63fa",
           "#FFA15A",
           "#19d3f3",
           "#FF6692",
           "#B6E880",
           "#FF97FF",
           "#FECB52"
          ],
          "font": {
           "color": "#2a3f5f"
          },
          "geo": {
           "bgcolor": "white",
           "lakecolor": "white",
           "landcolor": "#E5ECF6",
           "showlakes": true,
           "showland": true,
           "subunitcolor": "white"
          },
          "hoverlabel": {
           "align": "left"
          },
          "hovermode": "closest",
          "mapbox": {
           "style": "light"
          },
          "paper_bgcolor": "white",
          "plot_bgcolor": "#E5ECF6",
          "polar": {
           "angularaxis": {
            "gridcolor": "white",
            "linecolor": "white",
            "ticks": ""
           },
           "bgcolor": "#E5ECF6",
           "radialaxis": {
            "gridcolor": "white",
            "linecolor": "white",
            "ticks": ""
           }
          },
          "scene": {
           "xaxis": {
            "backgroundcolor": "#E5ECF6",
            "gridcolor": "white",
            "gridwidth": 2,
            "linecolor": "white",
            "showbackground": true,
            "ticks": "",
            "zerolinecolor": "white"
           },
           "yaxis": {
            "backgroundcolor": "#E5ECF6",
            "gridcolor": "white",
            "gridwidth": 2,
            "linecolor": "white",
            "showbackground": true,
            "ticks": "",
            "zerolinecolor": "white"
           },
           "zaxis": {
            "backgroundcolor": "#E5ECF6",
            "gridcolor": "white",
            "gridwidth": 2,
            "linecolor": "white",
            "showbackground": true,
            "ticks": "",
            "zerolinecolor": "white"
           }
          },
          "shapedefaults": {
           "line": {
            "color": "#2a3f5f"
           }
          },
          "ternary": {
           "aaxis": {
            "gridcolor": "white",
            "linecolor": "white",
            "ticks": ""
           },
           "baxis": {
            "gridcolor": "white",
            "linecolor": "white",
            "ticks": ""
           },
           "bgcolor": "#E5ECF6",
           "caxis": {
            "gridcolor": "white",
            "linecolor": "white",
            "ticks": ""
           }
          },
          "title": {
           "x": 0.05
          },
          "xaxis": {
           "automargin": true,
           "gridcolor": "white",
           "linecolor": "white",
           "ticks": "",
           "title": {
            "standoff": 15
           },
           "zerolinecolor": "white",
           "zerolinewidth": 2
          },
          "yaxis": {
           "automargin": true,
           "gridcolor": "white",
           "linecolor": "white",
           "ticks": "",
           "title": {
            "standoff": 15
           },
           "zerolinecolor": "white",
           "zerolinewidth": 2
          }
         }
        },
        "xaxis": {
         "anchor": "y",
         "domain": [
          0,
          1
         ],
         "type": "date"
        },
        "yaxis": {
         "anchor": "x",
         "autorange": "reversed",
         "domain": [
          0,
          1
         ],
         "title": {
          "text": "Tarefa"
         }
        }
       }
      }
     },
     "metadata": {},
     "output_type": "display_data"
    }
   ],
   "source": [
    "fig = px.timeline(df_cronograma, x_start=\"Início\", x_end=\"Fim\", y=\"Tarefa\", color=\"Responsável\")\n",
    "fig.update_yaxes(autorange=\"reversed\")\n",
    "fig.show()"
   ]
  }
 ],
 "metadata": {
  "kernelspec": {
   "display_name": "Python 3",
   "language": "python",
   "name": "python3"
  },
  "language_info": {
   "codemirror_mode": {
    "name": "ipython",
    "version": 3
   },
   "file_extension": ".py",
   "mimetype": "text/x-python",
   "name": "python",
   "nbconvert_exporter": "python",
   "pygments_lexer": "ipython3",
   "version": "3.11.1"
  }
 },
 "nbformat": 4,
 "nbformat_minor": 2
}
