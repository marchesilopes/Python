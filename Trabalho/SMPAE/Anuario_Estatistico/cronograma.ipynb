{
 "cells": [
  {
   "cell_type": "markdown",
   "metadata": {},
   "source": [
    "# Cronograma"
   ]
  },
  {
   "cell_type": "code",
   "execution_count": 6,
   "metadata": {},
   "outputs": [],
   "source": [
    "import pandas as pd\n",
    "import plotly.express as px"
   ]
  },
  {
   "cell_type": "code",
   "execution_count": 9,
   "metadata": {},
   "outputs": [
    {
     "data": {
      "text/html": [
       "<div>\n",
       "<style scoped>\n",
       "    .dataframe tbody tr th:only-of-type {\n",
       "        vertical-align: middle;\n",
       "    }\n",
       "\n",
       "    .dataframe tbody tr th {\n",
       "        vertical-align: top;\n",
       "    }\n",
       "\n",
       "    .dataframe thead th {\n",
       "        text-align: right;\n",
       "    }\n",
       "</style>\n",
       "<table border=\"1\" class=\"dataframe\">\n",
       "  <thead>\n",
       "    <tr style=\"text-align: right;\">\n",
       "      <th></th>\n",
       "      <th>i</th>\n",
       "      <th>Tarefa</th>\n",
       "      <th>Início</th>\n",
       "      <th>Fim</th>\n",
       "      <th>Responsável</th>\n",
       "      <th>Tipo</th>\n",
       "    </tr>\n",
       "  </thead>\n",
       "  <tbody>\n",
       "    <tr>\n",
       "      <th>0</th>\n",
       "      <td>1</td>\n",
       "      <td>Elaboração e Publicação da Ordem de Serviço</td>\n",
       "      <td>2024-02-09</td>\n",
       "      <td>2024-03-09</td>\n",
       "      <td>André/Gabriel</td>\n",
       "      <td>Processo</td>\n",
       "    </tr>\n",
       "    <tr>\n",
       "      <th>1</th>\n",
       "      <td>2</td>\n",
       "      <td>Elaboração da Minuta da Ordem de Serviço</td>\n",
       "      <td>2024-02-09</td>\n",
       "      <td>2024-02-09</td>\n",
       "      <td>André/Gabriel</td>\n",
       "      <td>Etapa</td>\n",
       "    </tr>\n",
       "    <tr>\n",
       "      <th>2</th>\n",
       "      <td>3</td>\n",
       "      <td>Abertura do Processo SEI</td>\n",
       "      <td>2024-02-09</td>\n",
       "      <td>2024-02-09</td>\n",
       "      <td>André/Gabriel</td>\n",
       "      <td>Etapa</td>\n",
       "    </tr>\n",
       "    <tr>\n",
       "      <th>3</th>\n",
       "      <td>4</td>\n",
       "      <td>Envio do processo ao GS</td>\n",
       "      <td>2024-02-09</td>\n",
       "      <td>2024-02-09</td>\n",
       "      <td>André/Gabriel</td>\n",
       "      <td>Etapa</td>\n",
       "    </tr>\n",
       "    <tr>\n",
       "      <th>4</th>\n",
       "      <td>5</td>\n",
       "      <td>Aprovação pelo GS da SMPAE</td>\n",
       "      <td>2024-02-09</td>\n",
       "      <td>2024-02-09</td>\n",
       "      <td>André/Gabriel</td>\n",
       "      <td>Etapa</td>\n",
       "    </tr>\n",
       "    <tr>\n",
       "      <th>5</th>\n",
       "      <td>6</td>\n",
       "      <td>Verificação dos requisitos formais pela PMS-09</td>\n",
       "      <td>2024-02-13</td>\n",
       "      <td>2024-02-17</td>\n",
       "      <td>André/Gabriel</td>\n",
       "      <td>Etapa</td>\n",
       "    </tr>\n",
       "    <tr>\n",
       "      <th>6</th>\n",
       "      <td>7</td>\n",
       "      <td>Encaminhamento da OS à Assessoria Jurídica do ...</td>\n",
       "      <td>2024-02-18</td>\n",
       "      <td>2024-02-19</td>\n",
       "      <td>André/Gabriel</td>\n",
       "      <td>Etapa</td>\n",
       "    </tr>\n",
       "    <tr>\n",
       "      <th>7</th>\n",
       "      <td>8</td>\n",
       "      <td>Análise pela Assessoria para Assuntos Especiai...</td>\n",
       "      <td>2024-02-20</td>\n",
       "      <td>2024-02-21</td>\n",
       "      <td>André/Gabriel</td>\n",
       "      <td>Etapa</td>\n",
       "    </tr>\n",
       "    <tr>\n",
       "      <th>8</th>\n",
       "      <td>9</td>\n",
       "      <td>Aprovação e assinatura pelo Prefeito</td>\n",
       "      <td>2024-02-22</td>\n",
       "      <td>2024-02-23</td>\n",
       "      <td>André/Gabriel</td>\n",
       "      <td>Etapa</td>\n",
       "    </tr>\n",
       "    <tr>\n",
       "      <th>9</th>\n",
       "      <td>10</td>\n",
       "      <td>Publicação da Ordem de Serviço no DOPA</td>\n",
       "      <td>2024-02-24</td>\n",
       "      <td>2024-03-09</td>\n",
       "      <td>André/Gabriel</td>\n",
       "      <td>Etapa</td>\n",
       "    </tr>\n",
       "    <tr>\n",
       "      <th>10</th>\n",
       "      <td>11</td>\n",
       "      <td>Formação de Grupo de Trabalho do Anuário</td>\n",
       "      <td>2024-04-10</td>\n",
       "      <td>2024-05-10</td>\n",
       "      <td>André/Gabriel</td>\n",
       "      <td>Processo</td>\n",
       "    </tr>\n",
       "    <tr>\n",
       "      <th>11</th>\n",
       "      <td>12</td>\n",
       "      <td>Elaboração da minuta da portaria de nomeação d...</td>\n",
       "      <td>2024-04-10</td>\n",
       "      <td>2024-04-12</td>\n",
       "      <td>André/Gabriel</td>\n",
       "      <td>Etapa</td>\n",
       "    </tr>\n",
       "    <tr>\n",
       "      <th>12</th>\n",
       "      <td>13</td>\n",
       "      <td>Abertura do Processo SEI</td>\n",
       "      <td>2024-04-13</td>\n",
       "      <td>2024-04-15</td>\n",
       "      <td>André/Gabriel</td>\n",
       "      <td>Etapa</td>\n",
       "    </tr>\n",
       "    <tr>\n",
       "      <th>13</th>\n",
       "      <td>14</td>\n",
       "      <td>Aprovação pelo GS da SMPAE</td>\n",
       "      <td>2024-04-16</td>\n",
       "      <td>2024-04-19</td>\n",
       "      <td>André/Gabriel</td>\n",
       "      <td>Etapa</td>\n",
       "    </tr>\n",
       "    <tr>\n",
       "      <th>14</th>\n",
       "      <td>15</td>\n",
       "      <td>Verificação dos requisitos formais pela PMS-09</td>\n",
       "      <td>2024-04-20</td>\n",
       "      <td>2024-04-27</td>\n",
       "      <td>André/Gabriel</td>\n",
       "      <td>Etapa</td>\n",
       "    </tr>\n",
       "    <tr>\n",
       "      <th>15</th>\n",
       "      <td>16</td>\n",
       "      <td>Aprovação e assinatura pelo Prefeito</td>\n",
       "      <td>2024-04-28</td>\n",
       "      <td>2024-05-04</td>\n",
       "      <td>André/Gabriel</td>\n",
       "      <td>Etapa</td>\n",
       "    </tr>\n",
       "    <tr>\n",
       "      <th>16</th>\n",
       "      <td>17</td>\n",
       "      <td>Publicação da Portaria no DOPA</td>\n",
       "      <td>2024-05-05</td>\n",
       "      <td>2024-05-10</td>\n",
       "      <td>André/Gabriel</td>\n",
       "      <td>Etapa</td>\n",
       "    </tr>\n",
       "    <tr>\n",
       "      <th>17</th>\n",
       "      <td>18</td>\n",
       "      <td>Atualização dos Dados de 2023</td>\n",
       "      <td>2024-04-10</td>\n",
       "      <td>2024-11-30</td>\n",
       "      <td>Gabriel</td>\n",
       "      <td>Processo</td>\n",
       "    </tr>\n",
       "    <tr>\n",
       "      <th>18</th>\n",
       "      <td>19</td>\n",
       "      <td>Coleta de Dados e Construção de Tabelas</td>\n",
       "      <td>2024-04-10</td>\n",
       "      <td>2024-06-15</td>\n",
       "      <td>Gabriel</td>\n",
       "      <td>Subprocesso</td>\n",
       "    </tr>\n",
       "    <tr>\n",
       "      <th>19</th>\n",
       "      <td>20</td>\n",
       "      <td>Estruturação das tabelas pela equipe</td>\n",
       "      <td>2024-04-10</td>\n",
       "      <td>2024-04-20</td>\n",
       "      <td>Gabriel</td>\n",
       "      <td>Etapa</td>\n",
       "    </tr>\n",
       "    <tr>\n",
       "      <th>20</th>\n",
       "      <td>21</td>\n",
       "      <td>Juntada das tabelas aos processos SEI</td>\n",
       "      <td>2024-04-10</td>\n",
       "      <td>2024-04-27</td>\n",
       "      <td>Gabriel</td>\n",
       "      <td>Etapa</td>\n",
       "    </tr>\n",
       "    <tr>\n",
       "      <th>21</th>\n",
       "      <td>22</td>\n",
       "      <td>Envio dos processos SEI para os órgãos</td>\n",
       "      <td>2024-04-21</td>\n",
       "      <td>2024-05-10</td>\n",
       "      <td>Gabriel</td>\n",
       "      <td>Etapa</td>\n",
       "    </tr>\n",
       "    <tr>\n",
       "      <th>22</th>\n",
       "      <td>23</td>\n",
       "      <td>Retorno do email pelos órgãos com os arquivos ...</td>\n",
       "      <td>2024-04-28</td>\n",
       "      <td>2024-06-07</td>\n",
       "      <td>Externo</td>\n",
       "      <td>Etapa</td>\n",
       "    </tr>\n",
       "    <tr>\n",
       "      <th>23</th>\n",
       "      <td>24</td>\n",
       "      <td>Solicitação de retorno dos órgãos que não envi...</td>\n",
       "      <td>2024-05-11</td>\n",
       "      <td>2024-06-15</td>\n",
       "      <td>Gabriel</td>\n",
       "      <td>Etapa</td>\n",
       "    </tr>\n",
       "    <tr>\n",
       "      <th>24</th>\n",
       "      <td>25</td>\n",
       "      <td>Revisão</td>\n",
       "      <td>2024-06-16</td>\n",
       "      <td>2024-07-13</td>\n",
       "      <td>Gabriel</td>\n",
       "      <td>Subprocesso</td>\n",
       "    </tr>\n",
       "    <tr>\n",
       "      <th>25</th>\n",
       "      <td>26</td>\n",
       "      <td>Revisão de conteúdo com os órgãos (inconsistên...</td>\n",
       "      <td>2024-06-16</td>\n",
       "      <td>2024-06-22</td>\n",
       "      <td>Gabriel</td>\n",
       "      <td>Etapa</td>\n",
       "    </tr>\n",
       "    <tr>\n",
       "      <th>26</th>\n",
       "      <td>27</td>\n",
       "      <td>Alinhamento com outras fontes de referência of...</td>\n",
       "      <td>2024-06-23</td>\n",
       "      <td>2024-06-29</td>\n",
       "      <td>Gabriel</td>\n",
       "      <td>Etapa</td>\n",
       "    </tr>\n",
       "    <tr>\n",
       "      <th>27</th>\n",
       "      <td>28</td>\n",
       "      <td>Operacionalização das sugestões e retificações...</td>\n",
       "      <td>2024-06-30</td>\n",
       "      <td>2024-07-06</td>\n",
       "      <td>Gabriel</td>\n",
       "      <td>Etapa</td>\n",
       "    </tr>\n",
       "    <tr>\n",
       "      <th>28</th>\n",
       "      <td>29</td>\n",
       "      <td>Validação dos arquivos Excel</td>\n",
       "      <td>2024-07-07</td>\n",
       "      <td>2024-07-13</td>\n",
       "      <td>Gabriel</td>\n",
       "      <td>Etapa</td>\n",
       "    </tr>\n",
       "    <tr>\n",
       "      <th>29</th>\n",
       "      <td>30</td>\n",
       "      <td>Estruturação dos dados da versão digital em Po...</td>\n",
       "      <td>2024-07-14</td>\n",
       "      <td>2024-11-30</td>\n",
       "      <td>Gabriel</td>\n",
       "      <td>Subprocesso</td>\n",
       "    </tr>\n",
       "    <tr>\n",
       "      <th>30</th>\n",
       "      <td>31</td>\n",
       "      <td>Elaboração do Eixo Gestão</td>\n",
       "      <td>2024-07-14</td>\n",
       "      <td>2024-07-27</td>\n",
       "      <td>Gabriel</td>\n",
       "      <td>Etapa</td>\n",
       "    </tr>\n",
       "    <tr>\n",
       "      <th>31</th>\n",
       "      <td>32</td>\n",
       "      <td>Elaboração do Eixo Desenvolvimento Econômico</td>\n",
       "      <td>2024-07-28</td>\n",
       "      <td>2024-08-10</td>\n",
       "      <td>Gabriel</td>\n",
       "      <td>Etapa</td>\n",
       "    </tr>\n",
       "    <tr>\n",
       "      <th>32</th>\n",
       "      <td>33</td>\n",
       "      <td>Elaboração do Eixo Serviços Urbanos</td>\n",
       "      <td>2024-08-11</td>\n",
       "      <td>2024-08-24</td>\n",
       "      <td>Gabriel</td>\n",
       "      <td>Etapa</td>\n",
       "    </tr>\n",
       "    <tr>\n",
       "      <th>33</th>\n",
       "      <td>34</td>\n",
       "      <td>Elaboração do Eixo Desenvolvimento Social</td>\n",
       "      <td>2024-08-25</td>\n",
       "      <td>2024-09-07</td>\n",
       "      <td>Gabriel</td>\n",
       "      <td>Etapa</td>\n",
       "    </tr>\n",
       "    <tr>\n",
       "      <th>34</th>\n",
       "      <td>35</td>\n",
       "      <td>Elaboração do Eixo Sobre a Cidade</td>\n",
       "      <td>2024-09-08</td>\n",
       "      <td>2024-09-21</td>\n",
       "      <td>Gabriel</td>\n",
       "      <td>Etapa</td>\n",
       "    </tr>\n",
       "    <tr>\n",
       "      <th>35</th>\n",
       "      <td>36</td>\n",
       "      <td>Elaboração do Eixo Sobre a Publicação</td>\n",
       "      <td>2024-09-22</td>\n",
       "      <td>2024-10-05</td>\n",
       "      <td>Gabriel</td>\n",
       "      <td>Etapa</td>\n",
       "    </tr>\n",
       "    <tr>\n",
       "      <th>36</th>\n",
       "      <td>37</td>\n",
       "      <td>Requisição da ficha catalográfica</td>\n",
       "      <td>2024-10-06</td>\n",
       "      <td>2024-10-19</td>\n",
       "      <td>André/Biblioteca</td>\n",
       "      <td>Etapa</td>\n",
       "    </tr>\n",
       "    <tr>\n",
       "      <th>37</th>\n",
       "      <td>38</td>\n",
       "      <td>Elaboração do texto de Apresentação</td>\n",
       "      <td>2024-10-20</td>\n",
       "      <td>2024-11-02</td>\n",
       "      <td>Gabriel</td>\n",
       "      <td>Etapa</td>\n",
       "    </tr>\n",
       "    <tr>\n",
       "      <th>38</th>\n",
       "      <td>39</td>\n",
       "      <td>Solicitação de capa para o AE2022 para a Comun...</td>\n",
       "      <td>2024-11-03</td>\n",
       "      <td>2024-11-16</td>\n",
       "      <td>Miguel</td>\n",
       "      <td>Etapa</td>\n",
       "    </tr>\n",
       "    <tr>\n",
       "      <th>39</th>\n",
       "      <td>40</td>\n",
       "      <td>Validação da Capa e do Texto de Apresentação p...</td>\n",
       "      <td>2024-11-17</td>\n",
       "      <td>2024-11-30</td>\n",
       "      <td>André</td>\n",
       "      <td>Etapa</td>\n",
       "    </tr>\n",
       "    <tr>\n",
       "      <th>40</th>\n",
       "      <td>41</td>\n",
       "      <td>Divulgação do Anuário Estatístico publicado</td>\n",
       "      <td>2024-12-01</td>\n",
       "      <td>2024-12-28</td>\n",
       "      <td>André</td>\n",
       "      <td>Processo</td>\n",
       "    </tr>\n",
       "    <tr>\n",
       "      <th>41</th>\n",
       "      <td>42</td>\n",
       "      <td>Apresentação e Aprovação pelo GS da SMPAE</td>\n",
       "      <td>2024-12-01</td>\n",
       "      <td>2024-12-07</td>\n",
       "      <td>André</td>\n",
       "      <td>Etapa</td>\n",
       "    </tr>\n",
       "    <tr>\n",
       "      <th>42</th>\n",
       "      <td>43</td>\n",
       "      <td>Operacionalização das sugestões e retificações...</td>\n",
       "      <td>2024-12-08</td>\n",
       "      <td>2024-12-14</td>\n",
       "      <td>Gabriel</td>\n",
       "      <td>Etapa</td>\n",
       "    </tr>\n",
       "    <tr>\n",
       "      <th>43</th>\n",
       "      <td>44</td>\n",
       "      <td>Publicação dos relatórios do Power BI no site ...</td>\n",
       "      <td>2024-12-15</td>\n",
       "      <td>2024-12-21</td>\n",
       "      <td>Comunicação Social</td>\n",
       "      <td>Etapa</td>\n",
       "    </tr>\n",
       "    <tr>\n",
       "      <th>44</th>\n",
       "      <td>45</td>\n",
       "      <td>Publicização de matéria nas redes sociais e ca...</td>\n",
       "      <td>2024-12-22</td>\n",
       "      <td>2024-12-28</td>\n",
       "      <td>Comunicação Social</td>\n",
       "      <td>Etapa</td>\n",
       "    </tr>\n",
       "  </tbody>\n",
       "</table>\n",
       "</div>"
      ],
      "text/plain": [
       "     i                                             Tarefa     Início  \\\n",
       "0    1        Elaboração e Publicação da Ordem de Serviço 2024-02-09   \n",
       "1    2           Elaboração da Minuta da Ordem de Serviço 2024-02-09   \n",
       "2    3                           Abertura do Processo SEI 2024-02-09   \n",
       "3    4                            Envio do processo ao GS 2024-02-09   \n",
       "4    5                         Aprovação pelo GS da SMPAE 2024-02-09   \n",
       "5    6     Verificação dos requisitos formais pela PMS-09 2024-02-13   \n",
       "6    7  Encaminhamento da OS à Assessoria Jurídica do ... 2024-02-18   \n",
       "7    8  Análise pela Assessoria para Assuntos Especiai... 2024-02-20   \n",
       "8    9               Aprovação e assinatura pelo Prefeito 2024-02-22   \n",
       "9   10             Publicação da Ordem de Serviço no DOPA 2024-02-24   \n",
       "10  11           Formação de Grupo de Trabalho do Anuário 2024-04-10   \n",
       "11  12  Elaboração da minuta da portaria de nomeação d... 2024-04-10   \n",
       "12  13                           Abertura do Processo SEI 2024-04-13   \n",
       "13  14                         Aprovação pelo GS da SMPAE 2024-04-16   \n",
       "14  15     Verificação dos requisitos formais pela PMS-09 2024-04-20   \n",
       "15  16               Aprovação e assinatura pelo Prefeito 2024-04-28   \n",
       "16  17                     Publicação da Portaria no DOPA 2024-05-05   \n",
       "17  18                      Atualização dos Dados de 2023 2024-04-10   \n",
       "18  19            Coleta de Dados e Construção de Tabelas 2024-04-10   \n",
       "19  20               Estruturação das tabelas pela equipe 2024-04-10   \n",
       "20  21              Juntada das tabelas aos processos SEI 2024-04-10   \n",
       "21  22             Envio dos processos SEI para os órgãos 2024-04-21   \n",
       "22  23  Retorno do email pelos órgãos com os arquivos ... 2024-04-28   \n",
       "23  24  Solicitação de retorno dos órgãos que não envi... 2024-05-11   \n",
       "24  25                                            Revisão 2024-06-16   \n",
       "25  26  Revisão de conteúdo com os órgãos (inconsistên... 2024-06-16   \n",
       "26  27  Alinhamento com outras fontes de referência of... 2024-06-23   \n",
       "27  28  Operacionalização das sugestões e retificações... 2024-06-30   \n",
       "28  29                       Validação dos arquivos Excel 2024-07-07   \n",
       "29  30  Estruturação dos dados da versão digital em Po... 2024-07-14   \n",
       "30  31                          Elaboração do Eixo Gestão 2024-07-14   \n",
       "31  32       Elaboração do Eixo Desenvolvimento Econômico 2024-07-28   \n",
       "32  33                Elaboração do Eixo Serviços Urbanos 2024-08-11   \n",
       "33  34          Elaboração do Eixo Desenvolvimento Social 2024-08-25   \n",
       "34  35                  Elaboração do Eixo Sobre a Cidade 2024-09-08   \n",
       "35  36              Elaboração do Eixo Sobre a Publicação 2024-09-22   \n",
       "36  37                  Requisição da ficha catalográfica 2024-10-06   \n",
       "37  38                Elaboração do texto de Apresentação 2024-10-20   \n",
       "38  39  Solicitação de capa para o AE2022 para a Comun... 2024-11-03   \n",
       "39  40  Validação da Capa e do Texto de Apresentação p... 2024-11-17   \n",
       "40  41        Divulgação do Anuário Estatístico publicado 2024-12-01   \n",
       "41  42          Apresentação e Aprovação pelo GS da SMPAE 2024-12-01   \n",
       "42  43  Operacionalização das sugestões e retificações... 2024-12-08   \n",
       "43  44  Publicação dos relatórios do Power BI no site ... 2024-12-15   \n",
       "44  45  Publicização de matéria nas redes sociais e ca... 2024-12-22   \n",
       "\n",
       "          Fim          Responsável         Tipo  \n",
       "0  2024-03-09        André/Gabriel     Processo  \n",
       "1  2024-02-09        André/Gabriel        Etapa  \n",
       "2  2024-02-09        André/Gabriel        Etapa  \n",
       "3  2024-02-09        André/Gabriel        Etapa  \n",
       "4  2024-02-09        André/Gabriel        Etapa  \n",
       "5  2024-02-17        André/Gabriel        Etapa  \n",
       "6  2024-02-19        André/Gabriel        Etapa  \n",
       "7  2024-02-21        André/Gabriel        Etapa  \n",
       "8  2024-02-23        André/Gabriel        Etapa  \n",
       "9  2024-03-09        André/Gabriel        Etapa  \n",
       "10 2024-05-10        André/Gabriel     Processo  \n",
       "11 2024-04-12        André/Gabriel        Etapa  \n",
       "12 2024-04-15        André/Gabriel        Etapa  \n",
       "13 2024-04-19        André/Gabriel        Etapa  \n",
       "14 2024-04-27        André/Gabriel        Etapa  \n",
       "15 2024-05-04        André/Gabriel        Etapa  \n",
       "16 2024-05-10        André/Gabriel        Etapa  \n",
       "17 2024-11-30              Gabriel     Processo  \n",
       "18 2024-06-15              Gabriel  Subprocesso  \n",
       "19 2024-04-20              Gabriel        Etapa  \n",
       "20 2024-04-27              Gabriel        Etapa  \n",
       "21 2024-05-10              Gabriel        Etapa  \n",
       "22 2024-06-07              Externo        Etapa  \n",
       "23 2024-06-15              Gabriel        Etapa  \n",
       "24 2024-07-13              Gabriel  Subprocesso  \n",
       "25 2024-06-22              Gabriel        Etapa  \n",
       "26 2024-06-29              Gabriel        Etapa  \n",
       "27 2024-07-06              Gabriel        Etapa  \n",
       "28 2024-07-13              Gabriel        Etapa  \n",
       "29 2024-11-30              Gabriel  Subprocesso  \n",
       "30 2024-07-27              Gabriel        Etapa  \n",
       "31 2024-08-10              Gabriel        Etapa  \n",
       "32 2024-08-24              Gabriel        Etapa  \n",
       "33 2024-09-07              Gabriel        Etapa  \n",
       "34 2024-09-21              Gabriel        Etapa  \n",
       "35 2024-10-05              Gabriel        Etapa  \n",
       "36 2024-10-19     André/Biblioteca        Etapa  \n",
       "37 2024-11-02              Gabriel        Etapa  \n",
       "38 2024-11-16               Miguel        Etapa  \n",
       "39 2024-11-30                André        Etapa  \n",
       "40 2024-12-28                André     Processo  \n",
       "41 2024-12-07                André        Etapa  \n",
       "42 2024-12-14              Gabriel        Etapa  \n",
       "43 2024-12-21  Comunicação Social         Etapa  \n",
       "44 2024-12-28  Comunicação Social         Etapa  "
      ]
     },
     "metadata": {},
     "output_type": "display_data"
    }
   ],
   "source": [
    "df_cronograma = pd.read_excel('cronograma_AE2023.xlsx')\n",
    "display (df_cronograma)"
   ]
  },
  {
   "cell_type": "markdown",
   "metadata": {},
   "source": [
    "## Gráfico de Gantt"
   ]
  },
  {
   "cell_type": "code",
   "execution_count": 18,
   "metadata": {},
   "outputs": [
    {
     "data": {
      "application/vnd.plotly.v1+json": {
       "config": {
        "plotlyServerURL": "https://plot.ly"
       },
       "data": [
        {
         "alignmentgroup": "True",
         "base": [
          "2024-02-09T00:00:00",
          "2024-04-10T00:00:00",
          "2024-04-10T00:00:00",
          "2024-12-01T00:00:00"
         ],
         "hovertemplate": "Tipo=Processo<br>Início=%{base}<br>Fim=%{x}<br>i=%{y}<extra></extra>",
         "legendgroup": "Processo",
         "marker": {
          "color": "#636efa",
          "pattern": {
           "shape": ""
          }
         },
         "name": "Processo",
         "offsetgroup": "Processo",
         "orientation": "h",
         "showlegend": true,
         "textposition": "auto",
         "type": "bar",
         "x": [
          2505600000,
          2592000000,
          20217600000,
          2332800000
         ],
         "xaxis": "x",
         "y": [
          1,
          11,
          18,
          41
         ],
         "yaxis": "y"
        },
        {
         "alignmentgroup": "True",
         "base": [
          "2024-02-09T00:00:00",
          "2024-02-09T00:00:00",
          "2024-02-09T00:00:00",
          "2024-02-09T00:00:00",
          "2024-02-13T00:00:00",
          "2024-02-18T00:00:00",
          "2024-02-20T00:00:00",
          "2024-02-22T00:00:00",
          "2024-02-24T00:00:00",
          "2024-04-10T00:00:00",
          "2024-04-13T00:00:00",
          "2024-04-16T00:00:00",
          "2024-04-20T00:00:00",
          "2024-04-28T00:00:00",
          "2024-05-05T00:00:00",
          "2024-04-10T00:00:00",
          "2024-04-10T00:00:00",
          "2024-04-21T00:00:00",
          "2024-04-28T00:00:00",
          "2024-05-11T00:00:00",
          "2024-06-16T00:00:00",
          "2024-06-23T00:00:00",
          "2024-06-30T00:00:00",
          "2024-07-07T00:00:00",
          "2024-07-14T00:00:00",
          "2024-07-28T00:00:00",
          "2024-08-11T00:00:00",
          "2024-08-25T00:00:00",
          "2024-09-08T00:00:00",
          "2024-09-22T00:00:00",
          "2024-10-06T00:00:00",
          "2024-10-20T00:00:00",
          "2024-11-03T00:00:00",
          "2024-11-17T00:00:00",
          "2024-12-01T00:00:00",
          "2024-12-08T00:00:00",
          "2024-12-15T00:00:00",
          "2024-12-22T00:00:00"
         ],
         "hovertemplate": "Tipo=Etapa<br>Início=%{base}<br>Fim=%{x}<br>i=%{y}<extra></extra>",
         "legendgroup": "Etapa",
         "marker": {
          "color": "#EF553B",
          "pattern": {
           "shape": ""
          }
         },
         "name": "Etapa",
         "offsetgroup": "Etapa",
         "orientation": "h",
         "showlegend": true,
         "textposition": "auto",
         "type": "bar",
         "x": [
          0,
          0,
          0,
          0,
          345600000,
          86400000,
          86400000,
          86400000,
          1209600000,
          172800000,
          172800000,
          259200000,
          604800000,
          518400000,
          432000000,
          864000000,
          1468800000,
          1641600000,
          3456000000,
          3024000000,
          518400000,
          518400000,
          518400000,
          518400000,
          1123200000,
          1123200000,
          1123200000,
          1123200000,
          1123200000,
          1123200000,
          1123200000,
          1123200000,
          1123200000,
          1123200000,
          518400000,
          518400000,
          518400000,
          518400000
         ],
         "xaxis": "x",
         "y": [
          2,
          3,
          4,
          5,
          6,
          7,
          8,
          9,
          10,
          12,
          13,
          14,
          15,
          16,
          17,
          20,
          21,
          22,
          23,
          24,
          26,
          27,
          28,
          29,
          31,
          32,
          33,
          34,
          35,
          36,
          37,
          38,
          39,
          40,
          42,
          43,
          44,
          45
         ],
         "yaxis": "y"
        },
        {
         "alignmentgroup": "True",
         "base": [
          "2024-04-10T00:00:00",
          "2024-06-16T00:00:00",
          "2024-07-14T00:00:00"
         ],
         "hovertemplate": "Tipo=Subprocesso<br>Início=%{base}<br>Fim=%{x}<br>i=%{y}<extra></extra>",
         "legendgroup": "Subprocesso",
         "marker": {
          "color": "#00cc96",
          "pattern": {
           "shape": ""
          }
         },
         "name": "Subprocesso",
         "offsetgroup": "Subprocesso",
         "orientation": "h",
         "showlegend": true,
         "textposition": "auto",
         "type": "bar",
         "x": [
          5702400000,
          2332800000,
          12009600000
         ],
         "xaxis": "x",
         "y": [
          19,
          25,
          30
         ],
         "yaxis": "y"
        }
       ],
       "layout": {
        "barmode": "overlay",
        "legend": {
         "title": {
          "text": "Tipo"
         },
         "tracegroupgap": 0
        },
        "margin": {
         "t": 60
        },
        "template": {
         "data": {
          "bar": [
           {
            "error_x": {
             "color": "#2a3f5f"
            },
            "error_y": {
             "color": "#2a3f5f"
            },
            "marker": {
             "line": {
              "color": "#E5ECF6",
              "width": 0.5
             },
             "pattern": {
              "fillmode": "overlay",
              "size": 10,
              "solidity": 0.2
             }
            },
            "type": "bar"
           }
          ],
          "barpolar": [
           {
            "marker": {
             "line": {
              "color": "#E5ECF6",
              "width": 0.5
             },
             "pattern": {
              "fillmode": "overlay",
              "size": 10,
              "solidity": 0.2
             }
            },
            "type": "barpolar"
           }
          ],
          "carpet": [
           {
            "aaxis": {
             "endlinecolor": "#2a3f5f",
             "gridcolor": "white",
             "linecolor": "white",
             "minorgridcolor": "white",
             "startlinecolor": "#2a3f5f"
            },
            "baxis": {
             "endlinecolor": "#2a3f5f",
             "gridcolor": "white",
             "linecolor": "white",
             "minorgridcolor": "white",
             "startlinecolor": "#2a3f5f"
            },
            "type": "carpet"
           }
          ],
          "choropleth": [
           {
            "colorbar": {
             "outlinewidth": 0,
             "ticks": ""
            },
            "type": "choropleth"
           }
          ],
          "contour": [
           {
            "colorbar": {
             "outlinewidth": 0,
             "ticks": ""
            },
            "colorscale": [
             [
              0,
              "#0d0887"
             ],
             [
              0.1111111111111111,
              "#46039f"
             ],
             [
              0.2222222222222222,
              "#7201a8"
             ],
             [
              0.3333333333333333,
              "#9c179e"
             ],
             [
              0.4444444444444444,
              "#bd3786"
             ],
             [
              0.5555555555555556,
              "#d8576b"
             ],
             [
              0.6666666666666666,
              "#ed7953"
             ],
             [
              0.7777777777777778,
              "#fb9f3a"
             ],
             [
              0.8888888888888888,
              "#fdca26"
             ],
             [
              1,
              "#f0f921"
             ]
            ],
            "type": "contour"
           }
          ],
          "contourcarpet": [
           {
            "colorbar": {
             "outlinewidth": 0,
             "ticks": ""
            },
            "type": "contourcarpet"
           }
          ],
          "heatmap": [
           {
            "colorbar": {
             "outlinewidth": 0,
             "ticks": ""
            },
            "colorscale": [
             [
              0,
              "#0d0887"
             ],
             [
              0.1111111111111111,
              "#46039f"
             ],
             [
              0.2222222222222222,
              "#7201a8"
             ],
             [
              0.3333333333333333,
              "#9c179e"
             ],
             [
              0.4444444444444444,
              "#bd3786"
             ],
             [
              0.5555555555555556,
              "#d8576b"
             ],
             [
              0.6666666666666666,
              "#ed7953"
             ],
             [
              0.7777777777777778,
              "#fb9f3a"
             ],
             [
              0.8888888888888888,
              "#fdca26"
             ],
             [
              1,
              "#f0f921"
             ]
            ],
            "type": "heatmap"
           }
          ],
          "heatmapgl": [
           {
            "colorbar": {
             "outlinewidth": 0,
             "ticks": ""
            },
            "colorscale": [
             [
              0,
              "#0d0887"
             ],
             [
              0.1111111111111111,
              "#46039f"
             ],
             [
              0.2222222222222222,
              "#7201a8"
             ],
             [
              0.3333333333333333,
              "#9c179e"
             ],
             [
              0.4444444444444444,
              "#bd3786"
             ],
             [
              0.5555555555555556,
              "#d8576b"
             ],
             [
              0.6666666666666666,
              "#ed7953"
             ],
             [
              0.7777777777777778,
              "#fb9f3a"
             ],
             [
              0.8888888888888888,
              "#fdca26"
             ],
             [
              1,
              "#f0f921"
             ]
            ],
            "type": "heatmapgl"
           }
          ],
          "histogram": [
           {
            "marker": {
             "pattern": {
              "fillmode": "overlay",
              "size": 10,
              "solidity": 0.2
             }
            },
            "type": "histogram"
           }
          ],
          "histogram2d": [
           {
            "colorbar": {
             "outlinewidth": 0,
             "ticks": ""
            },
            "colorscale": [
             [
              0,
              "#0d0887"
             ],
             [
              0.1111111111111111,
              "#46039f"
             ],
             [
              0.2222222222222222,
              "#7201a8"
             ],
             [
              0.3333333333333333,
              "#9c179e"
             ],
             [
              0.4444444444444444,
              "#bd3786"
             ],
             [
              0.5555555555555556,
              "#d8576b"
             ],
             [
              0.6666666666666666,
              "#ed7953"
             ],
             [
              0.7777777777777778,
              "#fb9f3a"
             ],
             [
              0.8888888888888888,
              "#fdca26"
             ],
             [
              1,
              "#f0f921"
             ]
            ],
            "type": "histogram2d"
           }
          ],
          "histogram2dcontour": [
           {
            "colorbar": {
             "outlinewidth": 0,
             "ticks": ""
            },
            "colorscale": [
             [
              0,
              "#0d0887"
             ],
             [
              0.1111111111111111,
              "#46039f"
             ],
             [
              0.2222222222222222,
              "#7201a8"
             ],
             [
              0.3333333333333333,
              "#9c179e"
             ],
             [
              0.4444444444444444,
              "#bd3786"
             ],
             [
              0.5555555555555556,
              "#d8576b"
             ],
             [
              0.6666666666666666,
              "#ed7953"
             ],
             [
              0.7777777777777778,
              "#fb9f3a"
             ],
             [
              0.8888888888888888,
              "#fdca26"
             ],
             [
              1,
              "#f0f921"
             ]
            ],
            "type": "histogram2dcontour"
           }
          ],
          "mesh3d": [
           {
            "colorbar": {
             "outlinewidth": 0,
             "ticks": ""
            },
            "type": "mesh3d"
           }
          ],
          "parcoords": [
           {
            "line": {
             "colorbar": {
              "outlinewidth": 0,
              "ticks": ""
             }
            },
            "type": "parcoords"
           }
          ],
          "pie": [
           {
            "automargin": true,
            "type": "pie"
           }
          ],
          "scatter": [
           {
            "fillpattern": {
             "fillmode": "overlay",
             "size": 10,
             "solidity": 0.2
            },
            "type": "scatter"
           }
          ],
          "scatter3d": [
           {
            "line": {
             "colorbar": {
              "outlinewidth": 0,
              "ticks": ""
             }
            },
            "marker": {
             "colorbar": {
              "outlinewidth": 0,
              "ticks": ""
             }
            },
            "type": "scatter3d"
           }
          ],
          "scattercarpet": [
           {
            "marker": {
             "colorbar": {
              "outlinewidth": 0,
              "ticks": ""
             }
            },
            "type": "scattercarpet"
           }
          ],
          "scattergeo": [
           {
            "marker": {
             "colorbar": {
              "outlinewidth": 0,
              "ticks": ""
             }
            },
            "type": "scattergeo"
           }
          ],
          "scattergl": [
           {
            "marker": {
             "colorbar": {
              "outlinewidth": 0,
              "ticks": ""
             }
            },
            "type": "scattergl"
           }
          ],
          "scattermapbox": [
           {
            "marker": {
             "colorbar": {
              "outlinewidth": 0,
              "ticks": ""
             }
            },
            "type": "scattermapbox"
           }
          ],
          "scatterpolar": [
           {
            "marker": {
             "colorbar": {
              "outlinewidth": 0,
              "ticks": ""
             }
            },
            "type": "scatterpolar"
           }
          ],
          "scatterpolargl": [
           {
            "marker": {
             "colorbar": {
              "outlinewidth": 0,
              "ticks": ""
             }
            },
            "type": "scatterpolargl"
           }
          ],
          "scatterternary": [
           {
            "marker": {
             "colorbar": {
              "outlinewidth": 0,
              "ticks": ""
             }
            },
            "type": "scatterternary"
           }
          ],
          "surface": [
           {
            "colorbar": {
             "outlinewidth": 0,
             "ticks": ""
            },
            "colorscale": [
             [
              0,
              "#0d0887"
             ],
             [
              0.1111111111111111,
              "#46039f"
             ],
             [
              0.2222222222222222,
              "#7201a8"
             ],
             [
              0.3333333333333333,
              "#9c179e"
             ],
             [
              0.4444444444444444,
              "#bd3786"
             ],
             [
              0.5555555555555556,
              "#d8576b"
             ],
             [
              0.6666666666666666,
              "#ed7953"
             ],
             [
              0.7777777777777778,
              "#fb9f3a"
             ],
             [
              0.8888888888888888,
              "#fdca26"
             ],
             [
              1,
              "#f0f921"
             ]
            ],
            "type": "surface"
           }
          ],
          "table": [
           {
            "cells": {
             "fill": {
              "color": "#EBF0F8"
             },
             "line": {
              "color": "white"
             }
            },
            "header": {
             "fill": {
              "color": "#C8D4E3"
             },
             "line": {
              "color": "white"
             }
            },
            "type": "table"
           }
          ]
         },
         "layout": {
          "annotationdefaults": {
           "arrowcolor": "#2a3f5f",
           "arrowhead": 0,
           "arrowwidth": 1
          },
          "autotypenumbers": "strict",
          "coloraxis": {
           "colorbar": {
            "outlinewidth": 0,
            "ticks": ""
           }
          },
          "colorscale": {
           "diverging": [
            [
             0,
             "#8e0152"
            ],
            [
             0.1,
             "#c51b7d"
            ],
            [
             0.2,
             "#de77ae"
            ],
            [
             0.3,
             "#f1b6da"
            ],
            [
             0.4,
             "#fde0ef"
            ],
            [
             0.5,
             "#f7f7f7"
            ],
            [
             0.6,
             "#e6f5d0"
            ],
            [
             0.7,
             "#b8e186"
            ],
            [
             0.8,
             "#7fbc41"
            ],
            [
             0.9,
             "#4d9221"
            ],
            [
             1,
             "#276419"
            ]
           ],
           "sequential": [
            [
             0,
             "#0d0887"
            ],
            [
             0.1111111111111111,
             "#46039f"
            ],
            [
             0.2222222222222222,
             "#7201a8"
            ],
            [
             0.3333333333333333,
             "#9c179e"
            ],
            [
             0.4444444444444444,
             "#bd3786"
            ],
            [
             0.5555555555555556,
             "#d8576b"
            ],
            [
             0.6666666666666666,
             "#ed7953"
            ],
            [
             0.7777777777777778,
             "#fb9f3a"
            ],
            [
             0.8888888888888888,
             "#fdca26"
            ],
            [
             1,
             "#f0f921"
            ]
           ],
           "sequentialminus": [
            [
             0,
             "#0d0887"
            ],
            [
             0.1111111111111111,
             "#46039f"
            ],
            [
             0.2222222222222222,
             "#7201a8"
            ],
            [
             0.3333333333333333,
             "#9c179e"
            ],
            [
             0.4444444444444444,
             "#bd3786"
            ],
            [
             0.5555555555555556,
             "#d8576b"
            ],
            [
             0.6666666666666666,
             "#ed7953"
            ],
            [
             0.7777777777777778,
             "#fb9f3a"
            ],
            [
             0.8888888888888888,
             "#fdca26"
            ],
            [
             1,
             "#f0f921"
            ]
           ]
          },
          "colorway": [
           "#636efa",
           "#EF553B",
           "#00cc96",
           "#ab63fa",
           "#FFA15A",
           "#19d3f3",
           "#FF6692",
           "#B6E880",
           "#FF97FF",
           "#FECB52"
          ],
          "font": {
           "color": "#2a3f5f"
          },
          "geo": {
           "bgcolor": "white",
           "lakecolor": "white",
           "landcolor": "#E5ECF6",
           "showlakes": true,
           "showland": true,
           "subunitcolor": "white"
          },
          "hoverlabel": {
           "align": "left"
          },
          "hovermode": "closest",
          "mapbox": {
           "style": "light"
          },
          "paper_bgcolor": "white",
          "plot_bgcolor": "#E5ECF6",
          "polar": {
           "angularaxis": {
            "gridcolor": "white",
            "linecolor": "white",
            "ticks": ""
           },
           "bgcolor": "#E5ECF6",
           "radialaxis": {
            "gridcolor": "white",
            "linecolor": "white",
            "ticks": ""
           }
          },
          "scene": {
           "xaxis": {
            "backgroundcolor": "#E5ECF6",
            "gridcolor": "white",
            "gridwidth": 2,
            "linecolor": "white",
            "showbackground": true,
            "ticks": "",
            "zerolinecolor": "white"
           },
           "yaxis": {
            "backgroundcolor": "#E5ECF6",
            "gridcolor": "white",
            "gridwidth": 2,
            "linecolor": "white",
            "showbackground": true,
            "ticks": "",
            "zerolinecolor": "white"
           },
           "zaxis": {
            "backgroundcolor": "#E5ECF6",
            "gridcolor": "white",
            "gridwidth": 2,
            "linecolor": "white",
            "showbackground": true,
            "ticks": "",
            "zerolinecolor": "white"
           }
          },
          "shapedefaults": {
           "line": {
            "color": "#2a3f5f"
           }
          },
          "ternary": {
           "aaxis": {
            "gridcolor": "white",
            "linecolor": "white",
            "ticks": ""
           },
           "baxis": {
            "gridcolor": "white",
            "linecolor": "white",
            "ticks": ""
           },
           "bgcolor": "#E5ECF6",
           "caxis": {
            "gridcolor": "white",
            "linecolor": "white",
            "ticks": ""
           }
          },
          "title": {
           "x": 0.05
          },
          "xaxis": {
           "automargin": true,
           "gridcolor": "white",
           "linecolor": "white",
           "ticks": "",
           "title": {
            "standoff": 15
           },
           "zerolinecolor": "white",
           "zerolinewidth": 2
          },
          "yaxis": {
           "automargin": true,
           "gridcolor": "white",
           "linecolor": "white",
           "ticks": "",
           "title": {
            "standoff": 15
           },
           "zerolinecolor": "white",
           "zerolinewidth": 2
          }
         }
        },
        "xaxis": {
         "anchor": "y",
         "domain": [
          0,
          1
         ],
         "type": "date"
        },
        "yaxis": {
         "anchor": "x",
         "autorange": "reversed",
         "domain": [
          0,
          1
         ],
         "title": {
          "text": "i"
         }
        }
       }
      }
     },
     "metadata": {},
     "output_type": "display_data"
    }
   ],
   "source": [
    "fig = px.timeline(df_cronograma, x_start=\"Início\", x_end=\"Fim\", y=\"i\", color=\"Tipo\", labels='Tarefa')\n",
    "fig.update_yaxes(autorange=\"reversed\")\n",
    "fig.show()"
   ]
  }
 ],
 "metadata": {
  "kernelspec": {
   "display_name": "Python 3",
   "language": "python",
   "name": "python3"
  },
  "language_info": {
   "codemirror_mode": {
    "name": "ipython",
    "version": 3
   },
   "file_extension": ".py",
   "mimetype": "text/x-python",
   "name": "python",
   "nbconvert_exporter": "python",
   "pygments_lexer": "ipython3",
   "version": "3.11.1"
  }
 },
 "nbformat": 4,
 "nbformat_minor": 2
}
