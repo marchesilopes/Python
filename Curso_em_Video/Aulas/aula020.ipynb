{
 "cells": [
  {
   "cell_type": "markdown",
   "metadata": {},
   "source": [
    "# Aula 20 - Funções - parte 1"
   ]
  },
  {
   "cell_type": "code",
   "execution_count": 3,
   "metadata": {},
   "outputs": [
    {
     "name": "stdout",
     "output_type": "stream",
     "text": [
      "------------------------------\n",
      "     CURSO EM VÍDEO     \n",
      "------------------------------\n",
      "------------------------------\n",
      "     APRENDA PYTHON     \n",
      "------------------------------\n",
      "------------------------------\n",
      "     GABRIEL     \n",
      "------------------------------\n"
     ]
    }
   ],
   "source": [
    "print('-' * 30)\n",
    "print('     CURSO EM VÍDEO     ')\n",
    "print('-' * 30)\n",
    "print('-' * 30)\n",
    "print('     APRENDA PYTHON     ')\n",
    "print('-' * 30)\n",
    "print('-' * 30)\n",
    "print('     GABRIEL     ')\n",
    "print('-' * 30)"
   ]
  },
  {
   "cell_type": "code",
   "execution_count": 4,
   "metadata": {},
   "outputs": [
    {
     "name": "stdout",
     "output_type": "stream",
     "text": [
      "------------------------------\n",
      "     CURSO EM VÍDEO     \n",
      "------------------------------\n",
      "------------------------------\n",
      "     APRENDA PYTHON     \n",
      "------------------------------\n",
      "     GABRIEL     \n",
      "------------------------------\n"
     ]
    }
   ],
   "source": [
    "def lin():\n",
    "    print('-' * 30)\n",
    "\n",
    "\n",
    "lin()\n",
    "print('     CURSO EM VÍDEO     ')\n",
    "lin()\n",
    "lin()\n",
    "print('     APRENDA PYTHON     ')\n",
    "lin()\n",
    "print('     GABRIEL     ')\n",
    "lin()"
   ]
  },
  {
   "cell_type": "code",
   "execution_count": 5,
   "metadata": {},
   "outputs": [
    {
     "name": "stdout",
     "output_type": "stream",
     "text": [
      "------------------------------\n",
      "SISTEMA DE ALUNOS\n",
      "------------------------------\n"
     ]
    }
   ],
   "source": [
    "def mensagem(msg):\n",
    "    print('-' * 30)\n",
    "    print(msg)\n",
    "    print('-' * 30)\n",
    "\n",
    "mensagem('SISTEMA DE ALUNOS')"
   ]
  },
  {
   "cell_type": "code",
   "execution_count": 7,
   "metadata": {},
   "outputs": [
    {
     "name": "stdout",
     "output_type": "stream",
     "text": [
      "9\n",
      "17\n",
      "3\n"
     ]
    }
   ],
   "source": [
    "def soma(a, b):\n",
    "    s = a + b\n",
    "    print(s)\n",
    "\n",
    "soma(4, 5)\n",
    "soma(8, 9)\n",
    "soma(2, 1)\n"
   ]
  },
  {
   "cell_type": "code",
   "execution_count": 8,
   "metadata": {},
   "outputs": [
    {
     "name": "stdout",
     "output_type": "stream",
     "text": [
      "A = 5 e B = 4\n",
      "A soma A + B = 9\n"
     ]
    }
   ],
   "source": [
    "def soma(a, b):\n",
    "    print(f'A = {a} e B = {b}')\n",
    "    s = a + b\n",
    "    print(f'A soma A + B = {s}')\n",
    "\n",
    "\n",
    "# Programa Principal\n",
    "soma(b=4,a=5)"
   ]
  },
  {
   "cell_type": "code",
   "execution_count": 11,
   "metadata": {},
   "outputs": [
    {
     "name": "stdout",
     "output_type": "stream",
     "text": [
      "Recebi os valores (2, 1, 7) e são ao todo 3 números.\n",
      "Recebi os valores (8, 0) e são ao todo 2 números.\n",
      "Recebi os valores (4, 4, 7, 6, 2) e são ao todo 5 números.\n"
     ]
    }
   ],
   "source": [
    "def contador(* num):\n",
    "    tam = (len(num))\n",
    "    print(f'Recebi os valores {num} e são ao todo {tam} números.')\n",
    "\n",
    "\n",
    "contador(2, 1, 7)\n",
    "contador(8, 0)\n",
    "contador(4, 4, 7, 6 ,2)"
   ]
  },
  {
   "cell_type": "code",
   "execution_count": 12,
   "metadata": {},
   "outputs": [
    {
     "name": "stdout",
     "output_type": "stream",
     "text": [
      "[14, 4, 10, 0, 8]\n"
     ]
    }
   ],
   "source": [
    "def dobra(lst):\n",
    "    pos = 0\n",
    "    while pos < len(lst):\n",
    "        lst[pos] *= 2\n",
    "        pos += 1\n",
    "\n",
    "\n",
    "valores = [7, 2, 5, 0, 4]\n",
    "dobra(valores)\n",
    "print(valores)"
   ]
  }
 ],
 "metadata": {
  "kernelspec": {
   "display_name": "Python 3",
   "language": "python",
   "name": "python3"
  },
  "language_info": {
   "codemirror_mode": {
    "name": "ipython",
    "version": 3
   },
   "file_extension": ".py",
   "mimetype": "text/x-python",
   "name": "python",
   "nbconvert_exporter": "python",
   "pygments_lexer": "ipython3",
   "version": "3.11.1"
  }
 },
 "nbformat": 4,
 "nbformat_minor": 2
}
