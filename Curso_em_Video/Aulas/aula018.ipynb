{
 "cells": [
  {
   "cell_type": "markdown",
   "metadata": {},
   "source": [
    "# Aula 18 - Listas - Parte 2"
   ]
  },
  {
   "cell_type": "code",
   "execution_count": 4,
   "metadata": {},
   "outputs": [
    {
     "name": "stdout",
     "output_type": "stream",
     "text": [
      "[['Gustavo', 40], ['Maria', 22]]\n"
     ]
    }
   ],
   "source": [
    "teste = list()\n",
    "teste.append('Gustavo')\n",
    "teste.append(40)\n",
    "galera = list()\n",
    "galera.append(teste[:])\n",
    "teste[0] = 'Maria'\n",
    "teste[1] = 22\n",
    "galera.append(teste[:])\n",
    "print(galera)"
   ]
  },
  {
   "cell_type": "code",
   "execution_count": 7,
   "metadata": {},
   "outputs": [
    {
     "name": "stdout",
     "output_type": "stream",
     "text": [
      "13\n"
     ]
    }
   ],
   "source": [
    "galera = [['João', 19], ['Ana', 33], ['Joaquim', 13], ['Maria', 45]]\n",
    "print(galera[2][1])"
   ]
  },
  {
   "cell_type": "code",
   "execution_count": 9,
   "metadata": {},
   "outputs": [
    {
     "name": "stdout",
     "output_type": "stream",
     "text": [
      "João tem 19 anos de idade.\n",
      "Ana tem 33 anos de idade.\n",
      "Joaquim tem 13 anos de idade.\n",
      "Maria tem 45 anos de idade.\n"
     ]
    }
   ],
   "source": [
    "galera = [['João', 19], ['Ana', 33], ['Joaquim', 13], ['Maria', 45]]\n",
    "for p in galera:\n",
    "    print(f'{p[0]} tem {p[1]} anos de idade.')"
   ]
  },
  {
   "cell_type": "code",
   "execution_count": 13,
   "metadata": {},
   "outputs": [
    {
     "name": "stdout",
     "output_type": "stream",
     "text": [
      "[['Cleiton', 23], ['Eliane', 11], ['Caio', 35]]\n",
      "Cleiton é maior de idade.\n",
      "Eliane é menor de idade.\n",
      "Caio é maior de idade.\n",
      "Temos 2 maiores e 1 menores de idade.\n"
     ]
    }
   ],
   "source": [
    "galera = list()\n",
    "dado = list()\n",
    "totmai = 0\n",
    "totmen = 0\n",
    "\n",
    "for c in range (0, 3):\n",
    "    dado.append(str(input('Nome: ')))\n",
    "    dado.append(int(input('Idade: ')))\n",
    "    galera.append(dado[:])\n",
    "    dado.clear()\n",
    "print(galera)\n",
    "\n",
    "for p in galera:\n",
    "    if p[1] >= 21:\n",
    "        print(f'{p[0]} é maior de idade.')\n",
    "        totmai += 1\n",
    "    else:\n",
    "        print(f'{p[0]} é menor de idade.')\n",
    "        totmen += 1\n",
    "\n",
    "print(f'Temos {totmai} maiores e {totmen} menores de idade.')"
   ]
  }
 ],
 "metadata": {
  "kernelspec": {
   "display_name": "Python 3",
   "language": "python",
   "name": "python3"
  },
  "language_info": {
   "codemirror_mode": {
    "name": "ipython",
    "version": 3
   },
   "file_extension": ".py",
   "mimetype": "text/x-python",
   "name": "python",
   "nbconvert_exporter": "python",
   "pygments_lexer": "ipython3",
   "version": "3.11.1"
  }
 },
 "nbformat": 4,
 "nbformat_minor": 2
}
