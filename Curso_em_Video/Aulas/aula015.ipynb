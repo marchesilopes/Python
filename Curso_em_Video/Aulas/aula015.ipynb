{
 "cells": [
  {
   "cell_type": "markdown",
   "metadata": {},
   "source": [
    "# Aula 015 - Interrompendo repetições while"
   ]
  },
  {
   "cell_type": "code",
   "execution_count": 2,
   "metadata": {},
   "outputs": [
    {
     "name": "stdout",
     "output_type": "stream",
     "text": [
      "1  -> 2  -> 3  -> 4  -> 5  -> 6  -> 7  -> 8  -> 9  -> 10  -> FIM\n"
     ]
    }
   ],
   "source": [
    "cont = 1\n",
    "while cont <= 10:\n",
    "    print(cont, ' -> ', end='')\n",
    "    cont += 1\n",
    "print('FIM')"
   ]
  },
  {
   "cell_type": "code",
   "execution_count": 6,
   "metadata": {},
   "outputs": [
    {
     "name": "stdout",
     "output_type": "stream",
     "text": [
      "A soma vale 22.\n"
     ]
    }
   ],
   "source": [
    "n = 0\n",
    "cont = 0\n",
    "s = 0\n",
    "while n != 999:\n",
    "    n = int(input('Digite um número: '))\n",
    "    if n == 999:\n",
    "        break\n",
    "    s += n\n",
    "print('A soma vale {}.'.format(s))"
   ]
  },
  {
   "cell_type": "code",
   "execution_count": 7,
   "metadata": {},
   "outputs": [
    {
     "name": "stdout",
     "output_type": "stream",
     "text": [
      "A soma vale 56.\n"
     ]
    }
   ],
   "source": [
    "n = 0\n",
    "cont = 0\n",
    "s = 0\n",
    "while n != 999:\n",
    "    n = int(input('Digite um número: '))\n",
    "    if n == 999:\n",
    "        break\n",
    "    s += n\n",
    "print(f'A soma vale {s}.')"
   ]
  },
  {
   "cell_type": "code",
   "execution_count": 11,
   "metadata": {},
   "outputs": [
    {
     "name": "stdout",
     "output_type": "stream",
     "text": [
      "O --------José-------- tem 33 anos e ganha R$987.30.\n"
     ]
    }
   ],
   "source": [
    "nome = 'José'\n",
    "idade = 33\n",
    "salario = 987.3\n",
    "print(f'O {nome:-^20} tem {idade} anos e ganha R${salario:.2f}.')"
   ]
  }
 ],
 "metadata": {
  "kernelspec": {
   "display_name": "Python 3",
   "language": "python",
   "name": "python3"
  },
  "language_info": {
   "codemirror_mode": {
    "name": "ipython",
    "version": 3
   },
   "file_extension": ".py",
   "mimetype": "text/x-python",
   "name": "python",
   "nbconvert_exporter": "python",
   "pygments_lexer": "ipython3",
   "version": "3.11.1"
  }
 },
 "nbformat": 4,
 "nbformat_minor": 2
}
