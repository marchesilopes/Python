{
 "cells": [
  {
   "cell_type": "markdown",
   "metadata": {},
   "source": [
    "# Aula 22 - Módulos e pacotes"
   ]
  },
  {
   "cell_type": "markdown",
   "metadata": {},
   "source": [
    "### Modularização"
   ]
  },
  {
   "cell_type": "code",
   "execution_count": 8,
   "metadata": {},
   "outputs": [
    {
     "name": "stdout",
     "output_type": "stream",
     "text": [
      "O fatorial de 5 é 120.\n",
      "O dobro de 5 é 10.\n",
      "O triplo de 5 é 15.\n"
     ]
    }
   ],
   "source": [
    "from uteiss import numeros\n",
    "\n",
    "num = int(input('Digite um número: '))\n",
    "fat = numeros.fatorial(num)\n",
    "print(f'O fatorial de {num} é {fat}.')\n",
    "print(f'O dobro de {num} é {numeros.dobro(num)}.')\n",
    "print(f'O triplo de {num} é {numeros.triplo(num)}.')"
   ]
  }
 ],
 "metadata": {
  "kernelspec": {
   "display_name": "Python 3",
   "language": "python",
   "name": "python3"
  },
  "language_info": {
   "codemirror_mode": {
    "name": "ipython",
    "version": 3
   },
   "file_extension": ".py",
   "mimetype": "text/x-python",
   "name": "python",
   "nbconvert_exporter": "python",
   "pygments_lexer": "ipython3",
   "version": "3.11.1"
  }
 },
 "nbformat": 4,
 "nbformat_minor": 2
}
