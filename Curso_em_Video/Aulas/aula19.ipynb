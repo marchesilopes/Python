{
 "cells": [
  {
   "cell_type": "markdown",
   "metadata": {},
   "source": [
    "# Aula 19 - Dicionários"
   ]
  },
  {
   "cell_type": "code",
   "execution_count": 14,
   "metadata": {},
   "outputs": [
    {
     "name": "stdout",
     "output_type": "stream",
     "text": [
      "O Gustavo tem 22 anos.\n",
      "dict_keys(['nome', 'sexo', 'idade'])\n",
      "dict_values(['Gustavo', 'M', 22])\n",
      "dict_items([('nome', 'Gustavo'), ('sexo', 'M'), ('idade', 22)])\n",
      "====================\n",
      "nome\n",
      "sexo\n",
      "idade\n",
      "====================\n",
      "Leandro\n",
      "M\n",
      "22\n",
      "====================\n",
      "nome = Leandro\n",
      "sexo = M\n",
      "idade = 22\n"
     ]
    }
   ],
   "source": [
    "pessoas = {'nome':'Gustavo', 'sexo':'M', 'idade':22}\n",
    "print(f'O {pessoas[\"nome\"]} tem {pessoas[\"idade\"]} anos.')\n",
    "print(pessoas.keys())\n",
    "print(pessoas.values())\n",
    "print(pessoas.items())\n",
    "pessoas['nome'] = 'Leandro'\n",
    "print('='*20)\n",
    "for k in pessoas.keys():\n",
    "    print(k)\n",
    "print('='*20)\n",
    "for v in pessoas.values():\n",
    "    print(v)\n",
    "print('='*20)\n",
    "for k, v in pessoas.items():\n",
    "    print(f'{k} = {v}')\n"
   ]
  },
  {
   "cell_type": "code",
   "execution_count": 16,
   "metadata": {},
   "outputs": [
    {
     "name": "stdout",
     "output_type": "stream",
     "text": [
      "SP\n"
     ]
    }
   ],
   "source": [
    "brasil = []\n",
    "estado1 = {'uf':'Rio de Janeiro', 'sigla':'RJ'}\n",
    "estado2 = {'uf':'São Paulo', 'sigla':'SP'}\n",
    "brasil.append(estado1)\n",
    "brasil.append(estado2)\n",
    "\n",
    "print(brasil[1]['sigla'])"
   ]
  },
  {
   "cell_type": "code",
   "execution_count": 21,
   "metadata": {},
   "outputs": [
    {
     "name": "stdout",
     "output_type": "stream",
     "text": [
      "O campo uf tem valor Minas Gerais.\n",
      "O campo sigla tem valor MG.\n",
      "O campo uf tem valor Acre AC.\n",
      "O campo sigla tem valor Goian.\n",
      "O campo uf tem valor GO.\n",
      "O campo sigla tem valor GO.\n"
     ]
    }
   ],
   "source": [
    "estado = dict()\n",
    "brasil = list()\n",
    "\n",
    "for c in range(0, 3):\n",
    "    estado['uf'] = str(input('Unidade Federativa: '))\n",
    "    estado['sigla'] = str(input('Sigla do Estado: '))\n",
    "    brasil.append(estado.copy())\n",
    "for e in brasil:\n",
    "    for k, v in e.items():\n",
    "        print(f'O campo {k} tem valor {v}.')"
   ]
  }
 ],
 "metadata": {
  "kernelspec": {
   "display_name": "Python 3",
   "language": "python",
   "name": "python3"
  },
  "language_info": {
   "codemirror_mode": {
    "name": "ipython",
    "version": 3
   },
   "file_extension": ".py",
   "mimetype": "text/x-python",
   "name": "python",
   "nbconvert_exporter": "python",
   "pygments_lexer": "ipython3",
   "version": "3.11.1"
  }
 },
 "nbformat": 4,
 "nbformat_minor": 2
}
