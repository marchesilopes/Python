{
 "cells": [
  {
   "cell_type": "markdown",
   "metadata": {},
   "source": [
    "# Aula 17 - Listas - Parte 1"
   ]
  },
  {
   "cell_type": "code",
   "execution_count": 3,
   "metadata": {},
   "outputs": [
    {
     "name": "stdout",
     "output_type": "stream",
     "text": [
      "[2, 5, 3, 1]\n"
     ]
    }
   ],
   "source": [
    "num =[2, 5, 9, 1]\n",
    "num[2] = 3\n",
    "print(num)"
   ]
  },
  {
   "cell_type": "code",
   "execution_count": 4,
   "metadata": {},
   "outputs": [
    {
     "name": "stdout",
     "output_type": "stream",
     "text": [
      "[2, 5, 3, 1, 7]\n"
     ]
    }
   ],
   "source": [
    "num =[2, 5, 9, 1]\n",
    "num[2] = 3\n",
    "num.append(7)\n",
    "print(num)"
   ]
  },
  {
   "cell_type": "code",
   "execution_count": 12,
   "metadata": {},
   "outputs": [
    {
     "name": "stdout",
     "output_type": "stream",
     "text": [
      "Não achei o número 4\n",
      "[7, 5, 3, 2]\n",
      "Essa lista tem 4 elementos.\n"
     ]
    }
   ],
   "source": [
    "num =[2, 5, 9, 1] # cria uma lista com os elementos [2, 5, 9, 1]\n",
    "num[2] = 3 # substitui o elemento na posição 3, no caso o elemento 9, pelo número 3\n",
    "num.append(7) # inclui o número 7 no final da lista\n",
    "num.sort(reverse=True) # ordena a lista em ordem inversa\n",
    "num.insert(2, 2) # insere o elemento 2 na posição 2, deslocando os demais elementos subsequentes\n",
    "num.pop() # elimina o último elemento da lista\n",
    "num.remove(2) # elimina o primeiro elemento de número 2 que aparece na lista\n",
    "\n",
    "if 4 in num:\n",
    "    num.remove(4) # elimina o primeiro elemento de número 4 que aparece na lista\n",
    "else:\n",
    "    print('Não achei o número 4') # caso não haja nenhum elemento de número 4 na lista, mostra a mensagem\n",
    "\n",
    "print(num)\n",
    "print(f'Essa lista tem {len(num)} elementos.')"
   ]
  },
  {
   "cell_type": "code",
   "execution_count": 15,
   "metadata": {},
   "outputs": [
    {
     "name": "stdout",
     "output_type": "stream",
     "text": [
      "Na posição 0, encontrei o valor 5!\n",
      "Na posição 1, encontrei o valor 9!\n",
      "Na posição 2, encontrei o valor 4!\n",
      "Cheguei ao final da lista.\n"
     ]
    }
   ],
   "source": [
    "valores = []\n",
    "valores.append(5)\n",
    "valores.append(9)\n",
    "valores.append(4)\n",
    "\n",
    "for c, v in enumerate(valores):\n",
    "    print(f'Na posição {c}, encontrei o valor {v}!')\n",
    "print('Cheguei ao final da lista.')"
   ]
  },
  {
   "cell_type": "code",
   "execution_count": 16,
   "metadata": {},
   "outputs": [
    {
     "name": "stdout",
     "output_type": "stream",
     "text": [
      "Na posição 0, encontrei o valor 4!\n",
      "Na posição 1, encontrei o valor 8!\n",
      "Na posição 2, encontrei o valor 9!\n",
      "Na posição 3, encontrei o valor 1!\n",
      "Na posição 4, encontrei o valor 3!\n",
      "Cheguei ao final da lista.\n"
     ]
    }
   ],
   "source": [
    "valores = list()\n",
    "\n",
    "for cont in range(0,5):\n",
    "    valores.append(int(input('Digite um valor: ')))\n",
    "\n",
    "for c, v in enumerate(valores):\n",
    "    print(f'Na posição {c}, encontrei o valor {v}!')\n",
    "print('Cheguei ao final da lista.')"
   ]
  },
  {
   "cell_type": "code",
   "execution_count": 20,
   "metadata": {},
   "outputs": [
    {
     "name": "stdout",
     "output_type": "stream",
     "text": [
      "Lista A: [2, 3, 4, 7]\n",
      "Lista B: [2, 3, 8, 7]\n"
     ]
    }
   ],
   "source": [
    "a = [2, 3, 4, 7]\n",
    "b = a[:] # b recebe uma cópia de todos os valores de a\n",
    "b[2] = 8\n",
    "print(f'Lista A: {a}')\n",
    "print(f'Lista B: {b}')"
   ]
  }
 ],
 "metadata": {
  "kernelspec": {
   "display_name": "Python 3",
   "language": "python",
   "name": "python3"
  },
  "language_info": {
   "codemirror_mode": {
    "name": "ipython",
    "version": 3
   },
   "file_extension": ".py",
   "mimetype": "text/x-python",
   "name": "python",
   "nbconvert_exporter": "python",
   "pygments_lexer": "ipython3",
   "version": "3.11.1"
  }
 },
 "nbformat": 4,
 "nbformat_minor": 2
}
