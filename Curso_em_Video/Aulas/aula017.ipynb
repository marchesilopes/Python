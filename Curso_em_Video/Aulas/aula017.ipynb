{
 "cells": [
  {
   "cell_type": "markdown",
   "metadata": {},
   "source": [
    "# Aula 17 - Listas - Parte 1"
   ]
  },
  {
   "cell_type": "code",
   "execution_count": 3,
   "metadata": {},
   "outputs": [
    {
     "name": "stdout",
     "output_type": "stream",
     "text": [
      "[2, 5, 3, 1]\n"
     ]
    }
   ],
   "source": [
    "num =[2, 5, 9, 1]\n",
    "num[2] = 3\n",
    "print(num)"
   ]
  },
  {
   "cell_type": "code",
   "execution_count": 4,
   "metadata": {},
   "outputs": [
    {
     "name": "stdout",
     "output_type": "stream",
     "text": [
      "[2, 5, 3, 1, 7]\n"
     ]
    }
   ],
   "source": [
    "num =[2, 5, 9, 1]\n",
    "num[2] = 3\n",
    "num.append(7)\n",
    "print(num)"
   ]
  },
  {
   "cell_type": "code",
   "execution_count": 12,
   "metadata": {},
   "outputs": [
    {
     "name": "stdout",
     "output_type": "stream",
     "text": [
      "Não achei o número 4\n",
      "[7, 5, 3, 2]\n",
      "Essa lista tem 4 elementos.\n"
     ]
    }
   ],
   "source": [
    "num =[2, 5, 9, 1] # cria uma lista com os elementos [2, 5, 9, 1]\n",
    "num[2] = 3 # substitui o elemento na posição 3, no caso o elemento 9, pelo número 3\n",
    "num.append(7) # inclui o número 7 no final da lista\n",
    "num.sort(reverse=True) # ordena a lista em ordem inversa\n",
    "num.insert(2, 2) # insere o elemento 2 na posição 2, deslocando os demais elementos subsequentes\n",
    "num.pop() # elimina o último elemento da lista\n",
    "num.remove(2) # elimina o primeiro elemento de número 2 que aparece na lista\n",
    "\n",
    "if 4 in num:\n",
    "    num.remove(4) # elimina o primeiro elemento de número 4 que aparece na lista\n",
    "else:\n",
    "    print('Não achei o número 4') # caso não haja nenhum elemento de número 4 na lista, mostra a mensagem\n",
    "\n",
    "print(num)\n",
    "print(f'Essa lista tem {len(num)} elementos.')"
   ]
  }
 ],
 "metadata": {
  "kernelspec": {
   "display_name": "Python 3",
   "language": "python",
   "name": "python3"
  },
  "language_info": {
   "codemirror_mode": {
    "name": "ipython",
    "version": 3
   },
   "file_extension": ".py",
   "mimetype": "text/x-python",
   "name": "python",
   "nbconvert_exporter": "python",
   "pygments_lexer": "ipython3",
   "version": "3.11.1"
  }
 },
 "nbformat": 4,
 "nbformat_minor": 2
}
