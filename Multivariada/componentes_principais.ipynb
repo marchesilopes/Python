{
 "cells": [
  {
   "cell_type": "markdown",
   "metadata": {},
   "source": [
    "# Análise de Componentes Principais"
   ]
  },
  {
   "cell_type": "markdown",
   "metadata": {},
   "source": [
    "Exemplo: Decatlo\n",
    "\n",
    "Uma base de dados com 41 linhas e 13 colunas: as dez primeiras colunas correspondem ao desempenho dos atletas para as 10 provas do decatlo. As colunas 11 e 12 correspondem respectivamente à classificação e aos pontos obtidos. A última coluna é uma variável categórica correspondente ao evento esportivo (Jogos Olímpicos de 2004 ou Decastar de 2004)\n",
    "\n",
    "As variáveis são\n",
    "- 100m (100 metros rasos)\n",
    "- (salto em distância)\n",
    "- (arremesso de peso)\n",
    "- (salto em altura)\n",
    "- 400m (400 metros rasos)\n",
    "- (110 metros com barreiras)\n",
    "- (lançamento de disco)\n",
    "- (salto com vara)\n",
    "- (lançamento de dardo)\n",
    "- 1500m (1500 metros)\n",
    "\n",
    "Fonte: https://malouche.github.io/data_in_class/decathlon_data.html\n",
    "\n",
    "1. Analise a matriz de correlações dos dados.\n",
    "2. Decomponha a matriz de variâncias e covariâncias em componentes principais.\n",
    "3. Quantas componentes explicam ao menos 90% da variabilidade dos dados?\n",
    "4. Proponha uma ordenação dos atletas segundo a primeira componente principal."
   ]
  },
  {
   "cell_type": "code",
   "execution_count": null,
   "metadata": {},
   "outputs": [],
   "source": []
  },
  {
   "cell_type": "code",
   "execution_count": null,
   "metadata": {},
   "outputs": [],
   "source": []
  },
  {
   "cell_type": "code",
   "execution_count": null,
   "metadata": {},
   "outputs": [],
   "source": []
  },
  {
   "cell_type": "code",
   "execution_count": null,
   "metadata": {},
   "outputs": [],
   "source": []
  },
  {
   "cell_type": "code",
   "execution_count": null,
   "metadata": {},
   "outputs": [],
   "source": []
  }
 ],
 "metadata": {
  "kernelspec": {
   "display_name": "Python 3",
   "language": "python",
   "name": "python3"
  },
  "language_info": {
   "codemirror_mode": {
    "name": "ipython",
    "version": 3
   },
   "file_extension": ".py",
   "mimetype": "text/x-python",
   "name": "python",
   "nbconvert_exporter": "python",
   "pygments_lexer": "ipython3",
   "version": "3.11.1"
  }
 },
 "nbformat": 4,
 "nbformat_minor": 2
}
